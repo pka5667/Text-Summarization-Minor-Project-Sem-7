{
 "cells": [
  {
   "cell_type": "code",
   "execution_count": null,
   "metadata": {},
   "outputs": [],
   "source": [
    "import numpy as np\n",
    "from transformers import AutoTokenizer, TFAutoModel\n",
    "import tensorflow as tf\n",
    "import nltk\n",
    "from nltk.tokenize import sent_tokenize, word_tokenize\n",
    "\n",
    "# Initialize NLTK\n",
    "nltk.download('punkt')"
   ]
  },
  {
   "cell_type": "code",
   "execution_count": null,
   "metadata": {},
   "outputs": [],
   "source": [
    "# Define a BERT model and tokenizer (replace with the specific BERT model you are using)\n",
    "model_name = \"bert-base-uncased\"  # Example: You can use a different pretrained model\n",
    "tokenizer = AutoTokenizer.from_pretrained(model_name)\n",
    "model = TFAutoModel.from_pretrained(model_name)"
   ]
  },
  {
   "cell_type": "code",
   "execution_count": null,
   "metadata": {},
   "outputs": [],
   "source": [
    "# Sample text data\n",
    "text = \"This is a sample text with multiple sentences. Each sentence is tokenized separately.\"\n",
    "\n",
    "# Tokenize the text into sentences using NLTK\n",
    "sentences = sent_tokenize(text)\n",
    "\n",
    "# Initialize lists to store sentence and word embeddings\n",
    "sentence_embeddings = []\n",
    "word_embeddings = []\n",
    "\n",
    "# Loop through sentences and tokenize words using NLTK\n",
    "for sentence in sentences:\n",
    "    # Tokenize the sentence into words\n",
    "    words = word_tokenize(sentence)\n",
    "\n",
    "    # Convert words to BERT tokens\n",
    "    tokens = [tokenizer.cls_token] + words + [tokenizer.sep_token]\n",
    "\n",
    "    # Convert tokens to input IDs\n",
    "    input_ids = tokenizer.convert_tokens_to_ids(tokens)\n",
    "\n",
    "    # Create an input dictionary in the expected format\n",
    "    input_dict = {\n",
    "        'input_ids': tf.constant([input_ids]),\n",
    "        'attention_mask': tf.constant([[1] * len(input_ids)]),\n",
    "    }\n",
    "\n",
    "    # Get BERT model output\n",
    "    with tf.device('/GPU:0'):\n",
    "        output = model(input_dict)\n",
    "\n",
    "    # Extract sentence and word embeddings\n",
    "    sentence_embedding = tf.reduce_mean(output.last_hidden_state, axis=1).numpy()  # Sentence embedding\n",
    "    word_embedding = output.last_hidden_state.numpy()  # Word embeddings\n",
    "\n",
    "    # Append to lists\n",
    "    sentence_embeddings.append(sentence_embedding)\n",
    "    word_embeddings.append(word_embedding)\n",
    "\n",
    "# Now, sentence_embeddings contains embeddings for each sentence, and word_embeddings contains embeddings for each word in each sentence\n"
   ]
  },
  {
   "cell_type": "code",
   "execution_count": null,
   "metadata": {},
   "outputs": [],
   "source": [
    "word_embeddings[1].shape"
   ]
  },
  {
   "cell_type": "code",
   "execution_count": null,
   "metadata": {},
   "outputs": [],
   "source": [
    "tokenizer.cls_token"
   ]
  },
  {
   "cell_type": "code",
   "execution_count": null,
   "metadata": {},
   "outputs": [],
   "source": [
    "input_dict"
   ]
  },
  {
   "cell_type": "code",
   "execution_count": null,
   "metadata": {},
   "outputs": [],
   "source": [
    "tokenizer.convert_tokens_to_ids(['hello', 'hi', 'bkkbcsfafd', 'how' , 'are', 'you'])"
   ]
  },
  {
   "cell_type": "code",
   "execution_count": null,
   "metadata": {},
   "outputs": [],
   "source": []
  }
 ],
 "metadata": {
  "kernelspec": {
   "display_name": "base",
   "language": "python",
   "name": "python3"
  },
  "language_info": {
   "codemirror_mode": {
    "name": "ipython",
    "version": 3
   },
   "file_extension": ".py",
   "mimetype": "text/x-python",
   "name": "python",
   "nbconvert_exporter": "python",
   "pygments_lexer": "ipython3",
   "version": "3.9.12"
  }
 },
 "nbformat": 4,
 "nbformat_minor": 2
}
