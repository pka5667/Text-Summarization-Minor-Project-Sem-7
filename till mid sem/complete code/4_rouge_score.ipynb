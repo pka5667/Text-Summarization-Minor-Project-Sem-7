{
 "cells": [
  {
   "cell_type": "code",
   "execution_count": 1,
   "metadata": {},
   "outputs": [],
   "source": [
    "import pandas as pd\n",
    "import numpy as np\n",
    "\n",
    "from ast import literal_eval # to convert array string to array\n",
    "from IPython.display import clear_output # to clear the large outputs\n",
    "\n",
    "from rouge import Rouge"
   ]
  },
  {
   "cell_type": "code",
   "execution_count": 2,
   "metadata": {},
   "outputs": [
    {
     "data": {
      "text/html": [
       "<div>\n",
       "<style scoped>\n",
       "    .dataframe tbody tr th:only-of-type {\n",
       "        vertical-align: middle;\n",
       "    }\n",
       "\n",
       "    .dataframe tbody tr th {\n",
       "        vertical-align: top;\n",
       "    }\n",
       "\n",
       "    .dataframe thead th {\n",
       "        text-align: right;\n",
       "    }\n",
       "</style>\n",
       "<table border=\"1\" class=\"dataframe\">\n",
       "  <thead>\n",
       "    <tr style=\"text-align: right;\">\n",
       "      <th></th>\n",
       "      <th>File Number</th>\n",
       "      <th>Generated Summary</th>\n",
       "      <th>Given Summary</th>\n",
       "    </tr>\n",
       "  </thead>\n",
       "  <tbody>\n",
       "    <tr>\n",
       "      <th>0</th>\n",
       "      <td>0</td>\n",
       "      <td>That scene and her performance will be discuss...</td>\n",
       "      <td>Barbie Movie Review: Ryan Gosling shines the b...</td>\n",
       "    </tr>\n",
       "    <tr>\n",
       "      <th>1</th>\n",
       "      <td>2</td>\n",
       "      <td>View this post on InstagramA post shared by Vi...</td>\n",
       "      <td>Kartik Aaryan was spotted flying in economy cl...</td>\n",
       "    </tr>\n",
       "    <tr>\n",
       "      <th>2</th>\n",
       "      <td>3</td>\n",
       "      <td>The government should get the matter investiga...</td>\n",
       "      <td>Abbasi had said that it was important to make ...</td>\n",
       "    </tr>\n",
       "    <tr>\n",
       "      <th>3</th>\n",
       "      <td>4</td>\n",
       "      <td>You can come to enjoy the natural beauty of th...</td>\n",
       "      <td>Flash floods and landslides caused by heavy do...</td>\n",
       "    </tr>\n",
       "    <tr>\n",
       "      <th>6</th>\n",
       "      <td>8</td>\n",
       "      <td>The NTCA has been expanding tiger habitats loc...</td>\n",
       "      <td>The latest estimate is said to cover areas of ...</td>\n",
       "    </tr>\n",
       "  </tbody>\n",
       "</table>\n",
       "</div>"
      ],
      "text/plain": [
       "   File Number                                  Generated Summary  \\\n",
       "0            0  That scene and her performance will be discuss...   \n",
       "1            2  View this post on InstagramA post shared by Vi...   \n",
       "2            3  The government should get the matter investiga...   \n",
       "3            4  You can come to enjoy the natural beauty of th...   \n",
       "6            8  The NTCA has been expanding tiger habitats loc...   \n",
       "\n",
       "                                       Given Summary  \n",
       "0  Barbie Movie Review: Ryan Gosling shines the b...  \n",
       "1  Kartik Aaryan was spotted flying in economy cl...  \n",
       "2  Abbasi had said that it was important to make ...  \n",
       "3  Flash floods and landslides caused by heavy do...  \n",
       "6  The latest estimate is said to cover areas of ...  "
      ]
     },
     "execution_count": 2,
     "metadata": {},
     "output_type": "execute_result"
    }
   ],
   "source": [
    "df = pd.read_csv('../features/Generated Summary.csv').dropna()\n",
    "df.head()"
   ]
  },
  {
   "cell_type": "markdown",
   "metadata": {},
   "source": [
    "## Similarity using rouge score"
   ]
  },
  {
   "cell_type": "code",
   "execution_count": 3,
   "metadata": {},
   "outputs": [],
   "source": [
    "rouge = Rouge()\n",
    "\n",
    "def similarity_using_rouge(sentance1, sentance2):\n",
    "    rouge_scores = rouge.get_scores(sentance1, sentance2)[0]\n",
    "    rouge_1 = rouge_scores['rouge-1']\n",
    "    rouge_2 = rouge_scores['rouge-2']\n",
    "    rouge_l = rouge_scores['rouge-l']\n",
    "    return rouge_1, rouge_2, rouge_l"
   ]
  },
  {
   "cell_type": "markdown",
   "metadata": {},
   "source": [
    "# Save the score results"
   ]
  },
  {
   "cell_type": "code",
   "execution_count": 4,
   "metadata": {},
   "outputs": [],
   "source": [
    "rouge_df = pd.DataFrame(columns=['rouge-1 r', 'rouge-1 p', 'rouge-1 f', 'rouge-2 r', 'rouge-2 p', 'rouge-2 f', 'rouge-l r', 'rouge-l p', 'rouge-l f'])\n"
   ]
  },
  {
   "cell_type": "code",
   "execution_count": 5,
   "metadata": {},
   "outputs": [],
   "source": [
    "rouge_1_r, rouge_1_p, rouge_1_f = 0, 0, 0\n",
    "rouge_2_r, rouge_2_p, rouge_2_f = 0, 0, 0\n",
    "rouge_l_r, rouge_l_p, rouge_l_f = 0, 0, 0\n",
    "\n",
    "for row in df.values:\n",
    "    # print(row[0], row[1])\n",
    "    rouge_1, rouge_2, rouge_l = similarity_using_rouge(row[1], row[2])\n",
    "    rouge_1_r += rouge_1['r'] / len(df.values)\n",
    "    rouge_1_p += rouge_1['p'] / len(df.values)\n",
    "    rouge_1_f += rouge_1['f'] / len(df.values)\n",
    "    rouge_2_r += rouge_2['r'] / len(df.values)\n",
    "    rouge_2_p += rouge_2['p'] / len(df.values)\n",
    "    rouge_2_f += rouge_2['f'] / len(df.values)\n",
    "    rouge_l_r += rouge_l['r'] / len(df.values)\n",
    "    rouge_l_p += rouge_l['p'] / len(df.values)\n",
    "    rouge_l_f += rouge_l['f'] / len(df.values)"
   ]
  },
  {
   "cell_type": "code",
   "execution_count": 6,
   "metadata": {},
   "outputs": [
    {
     "name": "stdout",
     "output_type": "stream",
     "text": [
      "Rouge scores: \n",
      "Rouge-1: \n",
      "r: 0.2324949563522975\n",
      "p: 0.1708880278313535\n",
      "f: 0.17529975558208558\n",
      "\n",
      "Rouge-2: \n",
      "r: 0.084141387155517\n",
      "p: 0.049828140195253376\n",
      "f: 0.05476935257107596\n",
      "\n",
      "Rouge-l: \n",
      "r: 0.20281402446814728\n",
      "p: 0.14689885199961716\n",
      "f: 0.15119108189843697\n",
      "\n"
     ]
    }
   ],
   "source": [
    "print(\"Rouge scores: \")\n",
    "print(\"Rouge-1: \")\n",
    "print(f\"r: {rouge_1_r}\\np: {rouge_1_p}\\nf: {rouge_1_f}\\n\")\n",
    "print(\"Rouge-2: \")\n",
    "print(f\"r: {rouge_2_r}\\np: {rouge_2_p}\\nf: {rouge_2_f}\\n\")\n",
    "print(\"Rouge-l: \")\n",
    "print(f\"r: {rouge_l_r}\\np: {rouge_l_p}\\nf: {rouge_l_f}\\n\")"
   ]
  },
  {
   "cell_type": "code",
   "execution_count": null,
   "metadata": {},
   "outputs": [],
   "source": []
  },
  {
   "cell_type": "code",
   "execution_count": null,
   "metadata": {},
   "outputs": [],
   "source": []
  }
 ],
 "metadata": {
  "kernelspec": {
   "display_name": "base",
   "language": "python",
   "name": "python3"
  },
  "language_info": {
   "codemirror_mode": {
    "name": "ipython",
    "version": 3
   },
   "file_extension": ".py",
   "mimetype": "text/x-python",
   "name": "python",
   "nbconvert_exporter": "python",
   "pygments_lexer": "ipython3",
   "version": "3.9.12"
  },
  "orig_nbformat": 4
 },
 "nbformat": 4,
 "nbformat_minor": 2
}
