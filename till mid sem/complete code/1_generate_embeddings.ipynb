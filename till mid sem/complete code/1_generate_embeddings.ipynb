{
 "cells": [
  {
   "cell_type": "code",
   "execution_count": 1,
   "metadata": {},
   "outputs": [],
   "source": [
    "import pandas as pd\n",
    "import numpy as np\n",
    "from gensim.models import Word2Vec\n",
    "\n",
    "import nltk\n",
    "from nltk.corpus import stopwords\n",
    "\n",
    "from IPython.display import clear_output # to clear the large outputs"
   ]
  },
  {
   "cell_type": "code",
   "execution_count": 2,
   "metadata": {},
   "outputs": [
    {
     "data": {
      "text/html": [
       "<div>\n",
       "<style scoped>\n",
       "    .dataframe tbody tr th:only-of-type {\n",
       "        vertical-align: middle;\n",
       "    }\n",
       "\n",
       "    .dataframe tbody tr th {\n",
       "        vertical-align: top;\n",
       "    }\n",
       "\n",
       "    .dataframe thead th {\n",
       "        text-align: right;\n",
       "    }\n",
       "</style>\n",
       "<table border=\"1\" class=\"dataframe\">\n",
       "  <thead>\n",
       "    <tr style=\"text-align: right;\">\n",
       "      <th></th>\n",
       "      <th>Heading</th>\n",
       "      <th>Summary</th>\n",
       "      <th>Article</th>\n",
       "      <th>id</th>\n",
       "    </tr>\n",
       "  </thead>\n",
       "  <tbody>\n",
       "    <tr>\n",
       "      <th>965</th>\n",
       "      <td>'Sebi Working On Instant Transaction Settlemen...</td>\n",
       "      <td>Sebi chief Madhabi Puri Buch says India is the...</td>\n",
       "      <td>Sebi Chairperson Madhabi Puri Buch on Monday I...</td>\n",
       "      <td>EnglishNews_train_995</td>\n",
       "    </tr>\n",
       "    <tr>\n",
       "      <th>966</th>\n",
       "      <td>ICICI Bank Hits Fresh 52-Week High Post Q1 Res...</td>\n",
       "      <td>ICICI Bank Share Price Today: ICICI Bank share...</td>\n",
       "      <td>ICICI Bank Share Price Today: ICICI Bank share...</td>\n",
       "      <td>EnglishNews_train_996</td>\n",
       "    </tr>\n",
       "    <tr>\n",
       "      <th>967</th>\n",
       "      <td>Netweb Technologies IPO Share Allotment Today:...</td>\n",
       "      <td>Netweb Technologies is set to finalize the bas...</td>\n",
       "      <td>Netweb Technologies IPO Share Allotment Today:...</td>\n",
       "      <td>EnglishNews_train_997</td>\n",
       "    </tr>\n",
       "    <tr>\n",
       "      <th>968</th>\n",
       "      <td>Gold Outperforms Sensex In Past 5 Years Amid G...</td>\n",
       "      <td>Gold Vs Sensex: Gold jumps 99% in the past 5 y...</td>\n",
       "      <td>Gold Vs Sensex In the Past 5 Years: Whenever t...</td>\n",
       "      <td>EnglishNews_train_998</td>\n",
       "    </tr>\n",
       "    <tr>\n",
       "      <th>969</th>\n",
       "      <td>Bears Back in Action! Sensex Tanks 1000 pts, N...</td>\n",
       "      <td>Sensex plunged 800 points to slip below the 67...</td>\n",
       "      <td>Why Are Markets Falling Today? After six strai...</td>\n",
       "      <td>EnglishNews_train_999</td>\n",
       "    </tr>\n",
       "  </tbody>\n",
       "</table>\n",
       "</div>"
      ],
      "text/plain": [
       "                                               Heading  \\\n",
       "965  'Sebi Working On Instant Transaction Settlemen...   \n",
       "966  ICICI Bank Hits Fresh 52-Week High Post Q1 Res...   \n",
       "967  Netweb Technologies IPO Share Allotment Today:...   \n",
       "968  Gold Outperforms Sensex In Past 5 Years Amid G...   \n",
       "969  Bears Back in Action! Sensex Tanks 1000 pts, N...   \n",
       "\n",
       "                                               Summary  \\\n",
       "965  Sebi chief Madhabi Puri Buch says India is the...   \n",
       "966  ICICI Bank Share Price Today: ICICI Bank share...   \n",
       "967  Netweb Technologies is set to finalize the bas...   \n",
       "968  Gold Vs Sensex: Gold jumps 99% in the past 5 y...   \n",
       "969  Sensex plunged 800 points to slip below the 67...   \n",
       "\n",
       "                                               Article                     id  \n",
       "965  Sebi Chairperson Madhabi Puri Buch on Monday I...  EnglishNews_train_995  \n",
       "966  ICICI Bank Share Price Today: ICICI Bank share...  EnglishNews_train_996  \n",
       "967  Netweb Technologies IPO Share Allotment Today:...  EnglishNews_train_997  \n",
       "968  Gold Vs Sensex In the Past 5 Years: Whenever t...  EnglishNews_train_998  \n",
       "969  Why Are Markets Falling Today? After six strai...  EnglishNews_train_999  "
      ]
     },
     "execution_count": 2,
     "metadata": {},
     "output_type": "execute_result"
    }
   ],
   "source": [
    "# df = pd.read_csv(\"../EnglishNews_train.csv\", encoding=\"utf-8\", nrows=10)\n",
    "df = pd.read_csv(\"../../newEnglishNews_train.csv\", encoding=\"utf-8\", nrows=1000).dropna().reset_index().drop(['index'], axis=1)\n",
    "df.tail()"
   ]
  },
  {
   "cell_type": "code",
   "execution_count": 3,
   "metadata": {},
   "outputs": [
    {
     "data": {
      "text/plain": [
       "(970, 4)"
      ]
     },
     "execution_count": 3,
     "metadata": {},
     "output_type": "execute_result"
    }
   ],
   "source": [
    "df.shape"
   ]
  },
  {
   "cell_type": "markdown",
   "metadata": {},
   "source": [
    "# Create vocabulary"
   ]
  },
  {
   "cell_type": "code",
   "execution_count": 4,
   "metadata": {},
   "outputs": [
    {
     "data": {
      "text/plain": [
       "0    Barbie Movie Review: One mention of Barbie and...\n",
       "1    The highly anticipated Gadar 2, starring Sunny...\n",
       "2    Kartik Aaryan, who is gearing up for the relea...\n",
       "3    Indian woman, Anju who travelled to Pakistan t...\n",
       "4    Himachal Pradesh, one of the worst hit states ...\n",
       "Name: Article, dtype: object"
      ]
     },
     "execution_count": 4,
     "metadata": {},
     "output_type": "execute_result"
    }
   ],
   "source": [
    "articles = df[\"Article\"]\n",
    "articles.head()"
   ]
  },
  {
   "cell_type": "code",
   "execution_count": 5,
   "metadata": {},
   "outputs": [
    {
     "data": {
      "text/plain": [
       "0    Barbie Movie Review: Ryan Gosling shines the b...\n",
       "1    A source close to the film told News18 exclusi...\n",
       "2    Kartik Aaryan was spotted flying in economy cl...\n",
       "3    Abbasi had said that it was important to make ...\n",
       "4    Flash floods and landslides caused by heavy do...\n",
       "Name: Summary, dtype: object"
      ]
     },
     "execution_count": 5,
     "metadata": {},
     "output_type": "execute_result"
    }
   ],
   "source": [
    "all_summary = df[\"Summary\"]\n",
    "all_summary.head()"
   ]
  },
  {
   "cell_type": "code",
   "execution_count": 16,
   "metadata": {},
   "outputs": [],
   "source": [
    "nltk.download('stopwords')\n",
    "\n",
    "stop_words = set(stopwords.words('english'))\n",
    "clear_output()\n",
    "\n",
    "# def remove_stopwords(text):\n",
    "#     return ' '.join([word.lower() for word in text.split() if word.lower() not in stop_words])\n",
    "\n",
    "# Preprocess the text\n",
    "def preprocess(text):\n",
    "    # Lowercase\n",
    "    text = text.lower()\n",
    "\n",
    "    # Replace the newlines and punctuations with space\n",
    "    filters = '!\"\\'#$%&()*+,-./:;<=>?@[\\\\]^_`{|}~\\t\\n'\n",
    "    text = text.translate(str.maketrans(filters, ' '*len(filters)))\n",
    "\n",
    "    # Remove stopwords\n",
    "    text = ' '.join([word for word in text.split() if word not in stop_words])\n",
    "    # Remove punctuations and numbers\n",
    "    text = ' '.join([word for word in text.split() if word.isalpha()])\n",
    "    # Remove single character\n",
    "    text = ' '.join([word for word in text.split() if len(word) > 1])\n",
    "    return text"
   ]
  },
  {
   "cell_type": "code",
   "execution_count": 26,
   "metadata": {},
   "outputs": [],
   "source": [
    "vocabulary_for_sentances = []\n",
    "\n",
    "for i in range(len(articles)):\n",
    "    try:\n",
    "        article = articles[i]\n",
    "        summary = all_summary[i]\n",
    "\n",
    "        sentences = nltk.sent_tokenize(article) + nltk.sent_tokenize(summary)\n",
    "\n",
    "        for j in range(len(sentences)):\n",
    "            sentence = preprocess(sentences[j])\n",
    "            vocabulary = set()\n",
    "            words = nltk.word_tokenize(sentence)\n",
    "            for word in words:\n",
    "                vocabulary.add(word)\n",
    "            vocabulary_for_sentances.append(list(vocabulary))\n",
    "    except Exception as e:\n",
    "        print(i, e)"
   ]
  },
  {
   "cell_type": "code",
   "execution_count": 27,
   "metadata": {},
   "outputs": [
    {
     "name": "stdout",
     "output_type": "stream",
     "text": [
      "['Barbie Movie Review: One mention of Barbie and you instantly think of a lean, tall-figured doll who is always well-dressed and has a perfect life.', 'This stereotype is stuck with the doll for years, despite the numerous new designs and models being introduced.', 'Director Greta Gerwig understood these stereotypes and even plays along with them for the first 15 to 20 minutes of the Barbie movie.', 'However, she shatters the glass as soon as she is done playing with the &amp;#8216;doll&amp;#8217; and gets down to business to tell a relatable, feminist, and applaud-worthy movie that lives up to the hype.Barbie, starring Margot Robbie in the lead, is set in Barbie Land which has several kinds of Barbies co-existing.', 'We see the stereotype Barbie (Margot), the President Barbie (Issa Rae), Physicist Barbie (Emma Mackey), and Lawyer Barbie (Sharon Rooney), among many more, running the Barbie land while the men, all of them named Ken, double up as their supporters, lovers, and partners.All goes well in the alter imaginary world until one day, the stereotypical Barbie wakes up feeling unusual emotions.', 'She begins to wonder about death, loses her ability to walk on her toes, and exhibits sad emotions.', 'When she approaches the &amp;#8216;Weird Barbie&amp;#8217; (Kate McKinnon), she learns that a portal between Barbie Land and the real world has led to Barbie feeling human-like emotions.', 'She is advised to visit the real world to find answers.Driving through roads, crossing mountains and seas, Barbie and Ken (Ryan Gosling) roller-blade into Venice Beach in California where they meet Gloria (America Ferrera) and her daughter Sasha (Ariana Greenblatt).', 'While Gloria is still a fan of Barbie, Sasha is not on board with the idea of Barbie and even calls her a fascist on her face.', 'Barbie soon understands that her questions are being answered but Ken goes off on a different journey of &amp;#8216;self-discovery.&amp;#8217; He learns that in the real world, men are treated higher than women and that the concept of patriarchy plays to their benefit.Ken returns to Barbie Land and brings about drastic changes.', 'On the other hand, Barbie also lands in her own world with the mother-daughter duo and finds out everything is changing.', 'This leaves her worried.', 'How will Barbie save her world?', 'I&amp;#8217;d recommend you watch the film and find out.Greta, with co-writer Noah Baumbach, delivers a colourful, fresh, and probably one of the best concepts of the year.', 'While the film starts off as though it is portraying a delusional world of Barbies, Greta smashes open the plot and lets you in on her feminist take on the popular doll.', 'She is conveying some of the most powerful messages with the film, she is doing it under the garb of humour and coming-of-age, making the impact stronger.The dialogues and screenplay are the biggest superpowers of Barbie.', 'Greta makes several pop culture references thus adopting the meta narration which helps Barbie take things a notch higher.', 'She also takes digs at Margot Robbie, the concept of Barbie over the years, Warner Bros&amp;#8217; projects, and patriarchy, leaving everyone in splits.', 'Barbie is so strong in its approach towards surprise humour that it somewhat reminded me of Phoebe Waller-Bridge&amp;#8217;s style of comedy.On the acting front, Margot proves she was meant to play the role of Barbie.', 'The actress shifts gears from being the happy-go-lucky Barbie to the Barbie no one has ever seen before with utmost ease.', 'However, Ryan Gosling steals the show.', 'He channels his inner Kenergy so hard that he outshines Margot in a few scenes.', 'He also shows his comedy side in the goofiest way possible.', 'His rapport with Simu Liu in the film, especially in their musical scenes, is hilarious and you will find yourself asking for more of their scenes.America Ferrera also holds the screen in the film.', 'Her monologue in the film was not only relatable but also very moving.', 'That scene and her performance will be discussed in the days to come.', 'However, she couldn&amp;#8217;t match up to Margot and Ryan&amp;#8217;s massive energy in the film.', 'Kate McKinnon as Weird Barbie also knows how to hold the camera&amp;#8217;s attention but is outshined by Margot.However, Barbie has its share of flaws as well.', 'The climax is based on convenience and shifts focus from Barbie to Ken, which backfires the whole build-up of the film.', 'To top it off, it appeared as though Greta was confused about how to end the film so she brought in a strange subplot to wrap things off, paving the way to several questions but no answers.Bottom Line: Dear Barbies, take your Kens with you to watch the impressive Gret Gerwig directorial because the film talks about the various struggles women go through that men truly need to be reminded of.', 'Watch the film for the dialogue writing and Margot and Ryan&amp;#8217;s performances.']\n",
      "['Barbie Movie Review: One mention of Barbie and you instantly think of a lean, tall-figured doll who is always well-dressed and has a perfect life.', 'This stereotype is stuck with the doll for years, despite the numerous new designs and models being introduced.', 'Director Greta Gerwig understood these stereotypes and even plays along with them for the first 15 to 20 minutes of the Barbie movie.', 'However, she shatters the glass as soon as she is done playing with the &amp;#8216;doll&amp;#8217; and gets down to business to tell a relatable, feminist, and applaud-worthy movie that lives up to the hype.Barbie, starring Margot Robbie in the lead, is set in Barbie Land which has several kinds of Barbies co-existing.', 'We see the stereotype Barbie (Margot), the President Barbie (Issa Rae), Physicist Barbie (Emma Mackey), and Lawyer Barbie (Sharon Rooney), among many more, running the Barbie land while the men, all of them named Ken, double up as their supporters, lovers, and partners.All goes well in the alter imaginary world until one day, the stereotypical Barbie wakes up feeling unusual emotions.', 'She begins to wonder about death, loses her ability to walk on her toes, and exhibits sad emotions.', 'When she approaches the &amp;#8216;Weird Barbie&amp;#8217; (Kate McKinnon), she learns that a portal between Barbie Land and the real world has led to Barbie feeling human-like emotions.', 'She is advised to visit the real world to find answers.Driving through roads, crossing mountains and seas, Barbie and Ken (Ryan Gosling) roller-blade into Venice Beach in California where they meet Gloria (America Ferrera) and her daughter Sasha (Ariana Greenblatt).', 'While Gloria is still a fan of Barbie, Sasha is not on board with the idea of Barbie and even calls her a fascist on her face.', 'Barbie soon understands that her questions are being answered but Ken goes off on a different journey of &amp;#8216;self-discovery.&amp;#8217; He learns that in the real world, men are treated higher than women and that the concept of patriarchy plays to their benefit.Ken returns to Barbie Land and brings about drastic changes.', 'On the other hand, Barbie also lands in her own world with the mother-daughter duo and finds out everything is changing.', 'This leaves her worried.', 'How will Barbie save her world?', 'I&amp;#8217;d recommend you watch the film and find out.Greta, with co-writer Noah Baumbach, delivers a colourful, fresh, and probably one of the best concepts of the year.', 'While the film starts off as though it is portraying a delusional world of Barbies, Greta smashes open the plot and lets you in on her feminist take on the popular doll.', 'She is conveying some of the most powerful messages with the film, she is doing it under the garb of humour and coming-of-age, making the impact stronger.The dialogues and screenplay are the biggest superpowers of Barbie.', 'Greta makes several pop culture references thus adopting the meta narration which helps Barbie take things a notch higher.', 'She also takes digs at Margot Robbie, the concept of Barbie over the years, Warner Bros&amp;#8217; projects, and patriarchy, leaving everyone in splits.', 'Barbie is so strong in its approach towards surprise humour that it somewhat reminded me of Phoebe Waller-Bridge&amp;#8217;s style of comedy.On the acting front, Margot proves she was meant to play the role of Barbie.', 'The actress shifts gears from being the happy-go-lucky Barbie to the Barbie no one has ever seen before with utmost ease.', 'However, Ryan Gosling steals the show.', 'He channels his inner Kenergy so hard that he outshines Margot in a few scenes.', 'He also shows his comedy side in the goofiest way possible.', 'His rapport with Simu Liu in the film, especially in their musical scenes, is hilarious and you will find yourself asking for more of their scenes.America Ferrera also holds the screen in the film.', 'Her monologue in the film was not only relatable but also very moving.', 'That scene and her performance will be discussed in the days to come.', 'However, she couldn&amp;#8217;t match up to Margot and Ryan&amp;#8217;s massive energy in the film.', 'Kate McKinnon as Weird Barbie also knows how to hold the camera&amp;#8217;s attention but is outshined by Margot.However, Barbie has its share of flaws as well.', 'The climax is based on convenience and shifts focus from Barbie to Ken, which backfires the whole build-up of the film.', 'To top it off, it appeared as though Greta was confused about how to end the film so she brought in a strange subplot to wrap things off, paving the way to several questions but no answers.Bottom Line: Dear Barbies, take your Kens with you to watch the impressive Gret Gerwig directorial because the film talks about the various struggles women go through that men truly need to be reminded of.', 'Watch the film for the dialogue writing and Margot and Ryan&amp;#8217;s performances.', 'Barbie Movie Review: Ryan Gosling shines the brightest in the Greta Gerwig film.', 'Margot Robbie proves she was meant for this role.']\n",
      "stereotype stuck doll years despite numerous new designs models introduced\n"
     ]
    }
   ],
   "source": [
    "print(nltk.sent_tokenize(articles[0]))\n",
    "merged = nltk.sent_tokenize(articles[0]) + nltk.sent_tokenize(all_summary[0])\n",
    "print(merged)\n",
    "print(preprocess(merged[1]))"
   ]
  },
  {
   "cell_type": "code",
   "execution_count": 29,
   "metadata": {},
   "outputs": [
    {
     "name": "stdout",
     "output_type": "stream",
     "text": [
      "['movie', 'one', 'doll', 'life', 'mention', 'well', 'perfect', 'figured', 'lean', 'always', 'review', 'tall', 'barbie', 'instantly', 'think', 'dressed']\n",
      "['despite', 'doll', 'stereotype', 'years', 'models', 'stuck', 'designs', 'introduced', 'numerous', 'new']\n",
      "['movie', 'understood', 'first', 'director', 'stereotypes', 'along', 'greta', 'minutes', 'gerwig', 'plays', 'barbie', 'even']\n",
      "['glass', 'soon', 'barbies', 'applaud', 'co', 'kinds', 'shatters', 'relatable', 'doll', 'worthy', 'business', 'margot', 'land', 'barbie', 'set', 'playing', 'movie', 'hype', 'however', 'gets', 'lead', 'feminist', 'tell', 'robbie', 'several', 'existing', 'done', 'amp', 'lives', 'starring']\n",
      "['mackey', 'see', 'one', 'president', 'emma', 'feeling', 'emotions', 'rae', 'unusual', 'physicist', 'lawyer', 'among', 'margot', 'issa', 'rooney', 'barbie', 'running', 'land', 'many', 'men', 'alter', 'double', 'sharon', 'well', 'ken', 'wakes', 'goes', 'supporters', 'lovers', 'partners', 'world', 'stereotypical', 'stereotype', 'day', 'named', 'imaginary']\n",
      "['loses', 'walk', 'emotions', 'exhibits', 'wonder', 'begins', 'sad', 'death', 'toes', 'ability']\n",
      "['kate', 'learns', 'world', 'approaches', 'led', 'portal', 'feeling', 'emotions', 'mckinnon', 'amp', 'human', 'land', 'barbie', 'real', 'like', 'weird']\n",
      "['ryan', 'california', 'mountains', 'advised', 'beach', 'ariana', 'greenblatt', 'gosling', 'find', 'seas', 'venice', 'blade', 'roads', 'barbie', 'answers', 'ken', 'driving', 'america', 'real', 'meet', 'visit', 'crossing', 'sasha', 'world', 'gloria', 'daughter', 'ferrera', 'roller']\n",
      "['sasha', 'still', 'gloria', 'idea', 'calls', 'fan', 'fascist', 'board', 'barbie', 'face', 'even']\n",
      "['learns', 'journey', 'women', 'soon', 'returns', 'answered', 'changes', 'brings', 'self', 'higher', 'plays', 'barbie', 'land', 'patriarchy', 'different', 'men', 'concept', 'ken', 'understands', 'benefit', 'goes', 'treated', 'real', 'discovery', 'questions', 'drastic', 'world', 'amp']\n",
      "['world', 'also', 'finds', 'lands', 'duo', 'hand', 'everything', 'daughter', 'changing', 'barbie', 'mother']\n",
      "['worried', 'leaves']\n",
      "['save', 'world', 'barbie']\n",
      "['one', 'best', 'delivers', 'find', 'concepts', 'amp', 'recommend', 'greta', 'writer', 'watch', 'colourful', 'noah', 'co', 'baumbach', 'probably', 'year', 'film', 'fresh']\n",
      "['open', 'world', 'doll', 'lets', 'portraying', 'starts', 'barbies', 'take', 'greta', 'plot', 'smashes', 'though', 'feminist', 'popular', 'film', 'delusional']\n",
      "['messages', 'age', 'barbie', 'stronger', 'garb', 'coming', 'superpowers', 'making', 'humour', 'dialogues', 'biggest', 'powerful', 'film', 'conveying', 'screenplay', 'impact']\n",
      "['culture', 'several', 'meta', 'notch', 'thus', 'adopting', 'makes', 'narration', 'take', 'greta', 'things', 'higher', 'helps', 'barbie', 'pop', 'references']\n",
      "['everyone', 'leaving', 'also', 'takes', 'years', 'warner', 'concept', 'amp', 'splits', 'margot', 'digs', 'bros', 'barbie', 'projects', 'patriarchy', 'robbie']\n",
      "['play', 'comedy', 'proves', 'style', 'front', 'somewhat', 'strong', 'towards', 'margot', 'barbie', 'bridge', 'acting', 'humour', 'meant', 'reminded', 'surprise', 'waller', 'phoebe', 'approach', 'amp', 'role']\n",
      "['one', 'happy', 'utmost', 'actress', 'lucky', 'ever', 'seen', 'go', 'barbie', 'ease', 'shifts', 'gears']\n",
      "['gosling', 'steals', 'ryan', 'show', 'however']\n",
      "['channels', 'scenes', 'outshines', 'inner', 'hard', 'kenergy', 'margot']\n",
      "['also', 'goofiest', 'shows', 'way', 'possible', 'comedy', 'side']\n",
      "['simu', 'liu', 'musical', 'also', 'scenes', 'especially', 'rapport', 'find', 'hilarious', 'america', 'asking', 'ferrera', 'screen', 'film', 'holds']\n",
      "['relatable', 'also', 'monologue', 'moving', 'film']\n",
      "['performance', 'discussed', 'scene', 'come', 'days']\n",
      "['ryan', 'however', 'massive', 'amp', 'margot', 'film', 'energy', 'match']\n",
      "['camera', 'kate', 'also', 'flaws', 'outshined', 'hold', 'mckinnon', 'knows', 'attention', 'however', 'amp', 'well', 'share', 'margot', 'barbie', 'weird']\n",
      "['focus', 'convenience', 'based', 'ken', 'build', 'barbie', 'shifts', 'backfires', 'film', 'climax', 'whole']\n",
      "['truly', 'women', 'barbies', 'gret', 'greta', 'bottom', 'dear', 'subplot', 'kens', 'things', 'paving', 'talks', 'need', 'way', 'struggles', 'go', 'line', 'men', 'appeared', 'answers', 'top', 'directorial', 'take', 'brought', 'watch', 'gerwig', 'reminded', 'confused', 'various', 'strange', 'questions', 'impressive', 'several', 'though', 'end', 'film', 'wrap']\n",
      "['writing', 'performances', 'ryan', 'dialogue', 'amp', 'watch', 'margot', 'film']\n",
      "['movie', 'gosling', 'ryan', 'greta', 'brightest', 'review', 'shines', 'barbie', 'gerwig', 'film']\n",
      "['margot', 'meant', 'proves', 'role', 'robbie']\n",
      "['sunny', 'fans', 'patel', 'anticipated', 'ameesha', 'deol', 'generating', 'among', 'highly', 'gadar', 'excitement', 'starring']\n",
      "['hungama', 'according', 'expected', 'july', 'earlier', 'trailer', 'gadar', 'report', 'release', 'bollywood']\n",
      "['makers', 'told', 'plans', 'film', 'close', 'however', 'otherwise', 'exclusively', 'trailer', 'production', 'preponed', 'gadar', 'source', 'sources', 'release', 'claimed']\n",
      "['trailer', 'earlier', 'release']\n",
      "['according', 'devised', 'sunny', 'director', 'said', 'sharma', 'deol', 'launch', 'promotional', 'strategy', 'actor', 'planning', 'makers', 'july', 'interesting', 'amp', 'gadar', 'source', 'anil']\n",
      "['enough', 'awareness', 'efforts', 'director', 'actors', 'generate', 'sharma', 'buzz', 'amp', 'august', 'release', 'relying', 'film', 'anil']\n",
      "['makers', 'official', 'october', 'announced', 'ek', 'remake', 'katha', 'prem', 'trailer', 'regarding', 'release', 'gadar', 'statement', 'film']\n",
      "['movie', 'post', 'portrayed', 'sikh', 'boy', 'love', 'story', 'partition', 'singh', 'indian', 'muslim', 'tara', 'girl', 'set', 'sakeena', 'india']\n",
      "['first', 'instalment', 'border', 'crossed', 'bring', 'wife', 'tara', 'back']\n",
      "['young', 'jeete', 'see', 'utkarsh', 'original', 'film', 'sakeena', 'sunny', 'sharma', 'son', 'deol', 'also', 'expressed', 'statement', 'issued', 'reprise', 'helmed', 'sequel', 'earlier', 'amp', 'directed', 'tara', 'gadar', 'excitement', 'role', 'anil']\n",
      "['professionally', 'personally', 'life', 'part', 'well', 'ek', 'katha', 'prem', 'eminent', 'gadar']\n",
      "['icon', 'defied', 'family', 'love', 'odds', 'crossed', 'singh', 'cult', 'boundaries', 'tara', 'went', 'gadar', 'protagonist', 'become']\n",
      "['said', 'years', 'collaborating', 'indian', 'enriching', 'experience', 'creatively', 'statement', 'express', 'team', 'quoted']\n",
      "['makers', 'told', 'plans', 'close', 'exclusively', 'trailer', 'preponed', 'gadar', 'source', 'release', 'film']\n",
      "['fans', 'earth', 'gearing', 'kartik', 'katha', 'meltdown', 'satyaprem', 'release', 'ki', 'sent', 'gesture', 'aaryan']\n",
      "['travel', 'capsule', 'first', 'including', 'kartik', 'cars', 'fly', 'economy', 'recent', 'lamborghini', 'urus', 'class', 'luxury', 'multiple', 'owner', 'ditched']\n",
      "['video', 'seat', 'shared', 'showing', 'page', 'instagram', 'bhool', 'way', 'making', 'bhulaiyaa', 'actor']\n",
      "['blue', 'video', 'light', 'kartik', 'denim', 'shirt', 'seen', 'paired', 'wearing']\n",
      "['clear', 'flight', 'board']\n",
      "['post', 'video', 'first', 'shared', 'instant', 'instantbollywood', 'travelling', 'economy', 'time', 'watch', 'instagrama', 'star', 'bollywood', 'view', 'spotted']\n",
      "['kriti', 'economy', 'chose', 'sanon', 'class', 'travel', 'april']\n",
      "['interacting', 'passengers', 'seen', 'fellow', 'fact']\n",
      "['december', 'video', 'kaushal', 'showing', 'gained', 'access', 'kaif', 'economy', 'katrina', 'flying', 'year', 'exclusive', 'last', 'vicky', 'com']\n",
      "['post', 'meanwhile', 'drama', 'soon', 'seen', 'view', 'shared', 'bhayani', 'satyaprem', 'instagrama', 'aaryan', 'kiara', 'kartik', 'katha', 'titled', 'viralbhayani', 'viral', 'romantic', 'advani', 'ki', 'alongside']\n",
      "['already', 'lot', 'buzz', 'trailer', 'film', 'created']\n",
      "['month', 'earlier', 'intense', 'trailer', 'making', 'dropped', 'glimpse', 'film', 'gave', 'romantic']\n",
      "['playing', 'hit', 'kartik', 'reunites', 'features', 'couple', 'bhool', 'duo', 'married', 'pair', 'year', 'bhulaiyaa', 'screen', 'film', 'kiara']\n",
      "['character', 'happy', 'katha', 'however', 'seem', 'marriage', 'kiara']\n",
      "['post', 'grandson', 'shared', 'katha', 'massive', 'collaboration', 'namah', 'satyaprem', 'nadiadwalagrandson', 'instagrama', 'ki', 'nadiadwala', 'pictures', 'view', 'marks', 'nge']\n",
      "['sajid', 'national', 'interestingly', 'director', 'sameer', 'films', 'kedia', 'feature', 'vidwans', 'arora', 'award', 'respective', 'mantri', 'kishor', 'nadiadwala', 'shareen']\n",
      "['theaters', 'katha', 'released', 'satyaprem', 'ki', 'june']\n",
      "['economy', 'kartik', 'flying', 'aaryan', 'class', 'spotted']\n",
      "['video', 'shared', 'flight', 'page', 'instagram', 'indigo', 'board', 'actor']\n",
      "['marry', 'pakistan', 'businessman', 'gifts', 'gifted', 'woman', 'piece', 'anju', 'indian', 'nasrullah', 'pakistani', 'land', 'rs', 'meet', 'travelled', 'lover']\n",
      "['converting', 'star', 'gave', 'abbasi', 'said', 'pak', 'companies', 'gifts', 'encouragement', 'feels', 'home', 'group', 'ensure', 'islam', 'issues', 'mohsin', 'pakistan', 'faces', 'anju', 'khan', 'intention', 'ceo']\n",
      "['housing', 'plot', 'thing', 'report', 'place', 'india', 'provide', 'said', 'today', 'new', 'comes', 'problem', 'build', 'feet', 'company', 'decided', 'main', 'anju', 'house', 'square', 'amp', 'someone', 'another']\n",
      "['thought', 'project', 'accomodate', 'since', 'running']\n",
      "['housing', 'given', 'plot', 'board', 'star', 'cheque', 'abbasi', 'businessman', 'pak', 'marla', 'islamabad', 'approved', 'companies', 'land', 'gifts', 'video', 'heard', 'group', 'directors', 'mohsin', 'saying', 'based', 'anju', 'khan', 'name', 'amp', 'received', 'ceo']\n",
      "['said', 'psg', 'anju', 'welcoming', 'nasrullah', 'married', 'converted', 'islam', 'ceo']\n",
      "['country', 'shah', 'government', 'businessmen', 'married', 'pakistani', 'couple', 'twitter', 'ghulam', 'nasrullah', 'people', 'newly', 'com', 'pic', 'july', 'ghulamabbasshah', 'anjunasrullahlovestory', 'fatima', 'abbas', 'support', 'urged']\n",
      "['marry', 'ago', 'divorce', 'get', 'three', 'delhi', 'like', 'valued', 'india', 'submitted', 'said', 'years', 'notice', 'important', 'married', 'not', 'divorced', 'claimed', 'husband', 'adding', 'embrace', 'reached', 'family', 'home', 'nasrullah', 'travel', 'islam', 'left', 'pakistan', 'following', 'yet', 'kumar', 'anju', 'can', 'feel', 'amp', 'papers', 'arvind', 'make']\n",
      "['amp', 'wife', 'still', 'papers']\n",
      "['marry', 'can', 'anyone', 'else', 'not']\n",
      "['added', 'mentally', 'disturbed', 'said', 'prasad', 'kumar', 'anju', 'government', 'father', 'eccentric', 'gaya', 'thomas', 'amp', 'investigated', 'arvind', 'get', 'matter']\n",
      "['district', 'alwar', 'anything', 'involved', 'year', 'uttar', 'like', 'old', 'although', 'said', 'nature', 'would', 'born', 'resident', 'kailor', 'never', 'pradesh', 'village', 'anju', 'free', 'get']\n",
      "['national', 'children', 'converting', 'border', 'friends', 'woman', 'peshawar', 'facebook', 'indian', 'via', 'year', 'mother', 'khyber', 'old', 'visa', 'friend', 'pak', 'islama', 'te', 'became', 'two', 'weds', 'pakistani', 'married', 'province', 'also', 'tribal', 'read', 'nasrullah', 'remote', 'islam', 'meet', 'converts', 'village', 'july', 'anju', 'fatima', 'amp', 'valid', 'wagah', 'pakhtunkhwa', 'attari', 'travelled']\n",
      "['district', 'station', 'solemnised', 'performed', 'police', 'said', 'city', 'moharrar', 'converted', 'nikah', 'nasrullah', 'marriage', 'islam', 'upper', 'anju', 'proper', 'amp', 'senior', 'officer']\n",
      "['pti', 'inputs']\n",
      "['marry', 'pakistan', 'valued', 'leaving', 'said', 'welcomed', 'family', 'anju', 'travelled', 'feel', 'important', 'nasrullah', 'meet', 'make', 'abbasi', 'india']\n",
      "['lustrous', 'states', 'one', 'hit', 'tourists', 'monsoon', 'mountains', 'himachal', 'green', 'year', 'pradesh', 'fury', 'worst', 'back', 'calling']\n",
      "['landslides', 'heavy', 'tariffs', 'since', 'woo', 'floods', 'monsoon', 'lives', 'association', 'himachal', 'flash', 'state', 'amid', 'claimed', 'june', 'caused', 'cent', 'room', 'pradesh', 'travel', 'onset', 'back', 'rains', 'announced', 'largely', 'discount', 'per', 'avoiding', 'tourists', 'downpour', 'hotel']\n",
      "['heavy', 'rate', 'year', 'monsoon', 'fury', 'almost', 'badly', 'said', 'singh', 'himachal', 'public', 'situation', 'minister', 'cent', 'industry', 'also', 'hit', 'called', 'return', 'pradesh', 'travel', 'normal', 'tourism', 'zero', 'works', 'rains', 'occupancy', 'safe', 'amp', 'becoming', 'due', 'per', 'vikramaditya', 'recent', 'tourists', 'hotel', 'industrythe']\n",
      "['damaged', 'national', 'several', 'mcleodganj', 'dharamshala', 'highway', 'places', 'severely']\n",
      "['estimated', 'one', 'heavy', 'crore', 'canceled', 'may', 'rate', 'recorded', 'dharamshala', 'reports', 'wreaked', 'floods', 'resulted', 'lean', 'bookings', 'hotels', 'come', 'monsoon', 'covid', 'month', 'thousand', 'six', 'footfalls', 'half', 'many', 'rs', 'increase', 'industry', 'tourist', 'first', 'cent', 'footfall', 'time', 'recovering', 'negligible', 'tourism', 'departments', 'havoc', 'pandemic', 'thousands', 'recoverythe', 'empty', 'rains', 'road', 'falls', 'yet', 'july', 'due', 'occupancy', 'per', 'loss', 'season']\n",
      "['told', 'president', 'restored', 'rents', 'till', 'hotels', 'corporation', 'federation', 'released', 'inflow', 'things', 'restaurant', 'said', 'bamba', 'hoping', 'news', 'singh', 'himachal', 'saturday', 'roads', 'public', 'agency', 'situation', 'minister', 'nothing', 'cent', 'private', 'also', 'industry', 'associations', 'tourist', 'increase', 'video', 'assure', 'coming', 'room', 'pradesh', 'discounts', 'tourism', 'pti', 'travel', 'ashwani', 'normal', 'back', 'works', 'offering', 'huge', 'gradually', 'september', 'announced', 'worry', 'safe', 'amp', 'discount', 'becoming', 'per', 'vikramaditya', 'development', 'tourists', 'hotel']\n",
      "['landslides', 'buildings', 'gone', 'ops', 'enormous', 'stranded', 'government', 'response', 'damaging', 'since', 'far', 'thirty', 'floods', 'three', 'come', 'monsoon', 'rain', 'emergency', 'enjoy', 'videos', 'incidents', 'blocking', 'said', 'ongoing', 'life', 'provided', 'beauty', 'would', 'facilities', 'roads', 'persons', 'state', 'statethe', 'june', 'video', 'different', 'property', 'related', 'hit', 'recently', 'causing', 'damage', 'accidents', 'hill', 'stay', 'rescue', 'parts', 'viral', 'centre', 'ensure', 'evacuated', 'result', 'travel', 'people', 'missing', 'safely', 'efforts', 'road', 'apprehensive', 'july', 'died', 'safe', 'relief', 'amp', 'per', 'caving', 'natural', 'vehicles', 'tourists', 'make', 'sweeping']\n",
      "['amp', 'ani', 'pti', 'inputs']\n",
      "['landslides', 'claimed', 'caused', 'heavy', 'monsoon', 'since', 'floods', 'flash', 'state', 'onset', 'lives', 'downpour', 'june']\n",
      "['almost', 'cent', 'rate', 'occupancy', 'himachal', 'zero', 'per', 'monsoon', 'recent', 'fury', 'hotel']\n",
      "['post', 'path', 'fast', 'game', 'retirement', 'bowling', 'bowler', 'sunday', 'nasser', 'oval', 'broad', 'forms', 'fifth', 'captain', 'taker', 'england', 'hussain', 'retire', 'final', 'set', 'long', 'partner', 'james', 'influence', 'feels', 'former', 'ashes', 'time', 'leading', 'turned', 'anderson', 'test', 'following', 'day', 'stuart', 'amp', 'wicket', 'conclusion', 'professional', 'wickets', 'fourth', 'veteran']\n",
      "['series', 'took', 'beat', 'mitchell', 'ongoing', 'four', 'edges', 'runs', 'initially', 'two', 'marsh', 'managed', 'figures', 'able', 'came', 'australia', 'take', 'lead', 'average', 'bat', 'pick', 'day', 'struggled', 'overs', 'though', 'wickets', 'match']\n",
      "['next', 'test', 'five', 'england', 'ashes', 'trip', 'march', 'january', 'assignment', 'match', 'india']\n",
      "['retirement', 'sway', 'think', 'anderson', 'much', 'broad']\n",
      "['afternoon', 'help', 'job', 'wickets', 'england', 'got', 'would', 'hand', 'concentrating', 'wondering', 'like', 'many']\n",
      "['old', 'mate', 'life', 'game', 'may', 'without', 'time', 'thinking', 'end', 'get', 'like', 'think']\n",
      "['later', 'say', 'play', 'couple', 'others', 'may', 'game', 'done', 'days']\n",
      "['play', 'one', 'right', 'sports', 'skies', 'rain', 'said', 'four', 'england', 'sky', 'way', 'five', 'also', 'eye', 'majority', 'wrong', 'day', 'worried', 'amp', 'predicted', 'hussain']\n"
     ]
    }
   ],
   "source": [
    "for i in vocabulary_for_sentances[:100]:\n",
    "    print(i)"
   ]
  },
  {
   "cell_type": "markdown",
   "metadata": {},
   "source": [
    "# Generate Embeddings"
   ]
  },
  {
   "cell_type": "code",
   "execution_count": 30,
   "metadata": {},
   "outputs": [],
   "source": [
    "vocabulary = list(vocabulary_for_sentances)\n",
    "model = Word2Vec(sentences=vocabulary, window=5, min_count=1, workers=4, vector_size=300) # by default size is 100\n",
    "model.save('../model/word2vec.model')"
   ]
  },
  {
   "cell_type": "markdown",
   "metadata": {},
   "source": [
    "## Generate sentance embeddings"
   ]
  },
  {
   "cell_type": "code",
   "execution_count": 44,
   "metadata": {},
   "outputs": [],
   "source": [
    "# Generate embedding for each sentence in the article\n",
    "def generate_sentence_embedding(sentence):\n",
    "    sentence = preprocess(sentence)\n",
    "    sentence_embedding = np.zeros(300)\n",
    "    # for word in sentence.split():\n",
    "    word_tokens = nltk.word_tokenize(sentence)\n",
    "    if len(word_tokens) == 0:\n",
    "        return list(sentence_embedding)\n",
    "    for word in word_tokens:\n",
    "        sentence_embedding += model.wv[word]\n",
    "    sentence_embedding = sentence_embedding / len(word_tokens)\n",
    "    return list(sentence_embedding)"
   ]
  },
  {
   "cell_type": "code",
   "execution_count": 45,
   "metadata": {},
   "outputs": [],
   "source": [
    "# Now, calculate the Word Mover's Distance\n",
    "def calculate_wmd(s1, s2):\n",
    "    given_sentence = nltk.word_tokenize(s1)\n",
    "    summary_sentences = nltk.word_tokenize(s2)\n",
    "    distance = model.wv.wmdistance(given_sentence, summary_sentences)\n",
    "    return distance"
   ]
  },
  {
   "cell_type": "code",
   "execution_count": 46,
   "metadata": {},
   "outputs": [],
   "source": [
    "allData = None\n",
    "columns = ['File Number', 'Sentence Number'] + [f'Feature {i}' for i in range(1, 301)] + ['label']\n",
    "\n",
    "for i in range(len(articles)):\n",
    "    article = articles[i]\n",
    "    summary = all_summary[i]\n",
    "    \n",
    "    sentences = nltk.sent_tokenize(article)\n",
    "\n",
    "    rows = []\n",
    "    for j in range(len(sentences)):\n",
    "        sentence_embedding = generate_sentence_embedding(sentences[j]) \n",
    "        # similarity = 1 if calculate_wmd(remove_stopwords(sentences[j]), summary)>=1 else 0\n",
    "        similarity = calculate_wmd(preprocess(sentences[j]), summary)\n",
    "        row = [i, j] + sentence_embedding + [similarity]\n",
    "        rows.append(row)\n",
    "    \n",
    "    df = pd.DataFrame(rows, columns=columns)\n",
    "\n",
    "    if allData is None:\n",
    "        allData = df\n",
    "    else:\n",
    "        allData = pd.concat([allData, df], ignore_index=True)\n",
    "    # break"
   ]
  },
  {
   "cell_type": "code",
   "execution_count": 47,
   "metadata": {},
   "outputs": [
    {
     "data": {
      "text/plain": [
       "34"
      ]
     },
     "execution_count": 47,
     "metadata": {},
     "output_type": "execute_result"
    }
   ],
   "source": [
    "# allData.head()\n",
    "sum(allData['label']>1)"
   ]
  },
  {
   "cell_type": "markdown",
   "metadata": {},
   "source": [
    "## Create a file for embeding values as features for each sentance"
   ]
  },
  {
   "cell_type": "code",
   "execution_count": 48,
   "metadata": {},
   "outputs": [],
   "source": [
    "allData.to_csv('../features/embeddings_using_word2vec.csv', index=False)"
   ]
  },
  {
   "cell_type": "code",
   "execution_count": null,
   "metadata": {},
   "outputs": [],
   "source": []
  },
  {
   "cell_type": "code",
   "execution_count": null,
   "metadata": {},
   "outputs": [],
   "source": []
  },
  {
   "cell_type": "code",
   "execution_count": null,
   "metadata": {},
   "outputs": [],
   "source": []
  }
 ],
 "metadata": {
  "kernelspec": {
   "display_name": "base",
   "language": "python",
   "name": "python3"
  },
  "language_info": {
   "codemirror_mode": {
    "name": "ipython",
    "version": 3
   },
   "file_extension": ".py",
   "mimetype": "text/x-python",
   "name": "python",
   "nbconvert_exporter": "python",
   "pygments_lexer": "ipython3",
   "version": "3.9.12"
  },
  "orig_nbformat": 4
 },
 "nbformat": 4,
 "nbformat_minor": 2
}
