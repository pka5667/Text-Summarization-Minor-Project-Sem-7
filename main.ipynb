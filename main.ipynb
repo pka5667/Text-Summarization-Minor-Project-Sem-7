{
 "cells": [
  {
   "cell_type": "markdown",
   "metadata": {},
   "source": [
    "- Pre process\n",
    "- Make all sentance Equal length\n",
    "- Make all articles of equal length\n",
    "- Get BERT embeddings for sentances and words\n",
    "- Make graph taking sentance as rows and words and label as column\n",
    "- Feed in graph attention model for sentance classification"
   ]
  },
  {
   "cell_type": "markdown",
   "metadata": {},
   "source": [
    "# Import Required Packages"
   ]
  },
  {
   "cell_type": "code",
   "execution_count": 61,
   "metadata": {},
   "outputs": [],
   "source": [
    "import pandas as pd\n",
    "import numpy as np\n",
    "\n",
    "import nltk\n",
    "from nltk.corpus import stopwords\n",
    "\n",
    "\n",
    "import tensorflow as tf\n",
    "from transformers import AutoTokenizer, TFAutoModel\n",
    "\n",
    "\n",
    "from IPython.display import clear_output # to clear the large outputs"
   ]
  },
  {
   "cell_type": "code",
   "execution_count": 62,
   "metadata": {},
   "outputs": [],
   "source": [
    "# Initialize NLTK\n",
    "nltk.download('punkt')\n",
    "clear_output()"
   ]
  },
  {
   "cell_type": "code",
   "execution_count": 63,
   "metadata": {},
   "outputs": [
    {
     "data": {
      "text/html": [
       "<div>\n",
       "<style scoped>\n",
       "    .dataframe tbody tr th:only-of-type {\n",
       "        vertical-align: middle;\n",
       "    }\n",
       "\n",
       "    .dataframe tbody tr th {\n",
       "        vertical-align: top;\n",
       "    }\n",
       "\n",
       "    .dataframe thead th {\n",
       "        text-align: right;\n",
       "    }\n",
       "</style>\n",
       "<table border=\"1\" class=\"dataframe\">\n",
       "  <thead>\n",
       "    <tr style=\"text-align: right;\">\n",
       "      <th></th>\n",
       "      <th>Heading</th>\n",
       "      <th>Summary</th>\n",
       "      <th>Article</th>\n",
       "      <th>id</th>\n",
       "    </tr>\n",
       "  </thead>\n",
       "  <tbody>\n",
       "    <tr>\n",
       "      <th>0</th>\n",
       "      <td>Barbie Review: Greta Gerwig, Margot Robbie, Ry...</td>\n",
       "      <td>Barbie Movie Review: Ryan Gosling shines the b...</td>\n",
       "      <td>Barbie Movie Review: One mention of Barbie and...</td>\n",
       "      <td>EnglishNews_train_0</td>\n",
       "    </tr>\n",
       "    <tr>\n",
       "      <th>1</th>\n",
       "      <td>Gadar 2: Sunny Deol-Ameesha Patel Starrer's Tr...</td>\n",
       "      <td>A source close to the film told News18 exclusi...</td>\n",
       "      <td>The highly anticipated Gadar 2, starring Sunny...</td>\n",
       "      <td>EnglishNews_train_1</td>\n",
       "    </tr>\n",
       "    <tr>\n",
       "      <th>2</th>\n",
       "      <td>Kartik Aaryan Ditches First Class To Fly In Ec...</td>\n",
       "      <td>Kartik Aaryan was spotted flying in economy cl...</td>\n",
       "      <td>Kartik Aaryan, who is gearing up for the relea...</td>\n",
       "      <td>EnglishNews_train_2</td>\n",
       "    </tr>\n",
       "    <tr>\n",
       "      <th>3</th>\n",
       "      <td>India's Anju, Now Fatima, Receives Land, Money...</td>\n",
       "      <td>Abbasi had said that it was important to make ...</td>\n",
       "      <td>Indian woman, Anju who travelled to Pakistan t...</td>\n",
       "      <td>EnglishNews_train_3</td>\n",
       "    </tr>\n",
       "    <tr>\n",
       "      <th>4</th>\n",
       "      <td>Himachal Pradesh Hotels Offer 50% Discount As ...</td>\n",
       "      <td>Flash floods and landslides caused by heavy do...</td>\n",
       "      <td>Himachal Pradesh, one of the worst hit states ...</td>\n",
       "      <td>EnglishNews_train_4</td>\n",
       "    </tr>\n",
       "  </tbody>\n",
       "</table>\n",
       "</div>"
      ],
      "text/plain": [
       "                                             Heading  \\\n",
       "0  Barbie Review: Greta Gerwig, Margot Robbie, Ry...   \n",
       "1  Gadar 2: Sunny Deol-Ameesha Patel Starrer's Tr...   \n",
       "2  Kartik Aaryan Ditches First Class To Fly In Ec...   \n",
       "3  India's Anju, Now Fatima, Receives Land, Money...   \n",
       "4  Himachal Pradesh Hotels Offer 50% Discount As ...   \n",
       "\n",
       "                                             Summary  \\\n",
       "0  Barbie Movie Review: Ryan Gosling shines the b...   \n",
       "1  A source close to the film told News18 exclusi...   \n",
       "2  Kartik Aaryan was spotted flying in economy cl...   \n",
       "3  Abbasi had said that it was important to make ...   \n",
       "4  Flash floods and landslides caused by heavy do...   \n",
       "\n",
       "                                             Article                   id  \n",
       "0  Barbie Movie Review: One mention of Barbie and...  EnglishNews_train_0  \n",
       "1  The highly anticipated Gadar 2, starring Sunny...  EnglishNews_train_1  \n",
       "2  Kartik Aaryan, who is gearing up for the relea...  EnglishNews_train_2  \n",
       "3  Indian woman, Anju who travelled to Pakistan t...  EnglishNews_train_3  \n",
       "4  Himachal Pradesh, one of the worst hit states ...  EnglishNews_train_4  "
      ]
     },
     "execution_count": 63,
     "metadata": {},
     "output_type": "execute_result"
    }
   ],
   "source": [
    "# df = pd.read_csv(\"../EnglishNews_train.csv\", encoding=\"utf-8\", nrows=10)\n",
    "df = pd.read_csv(\"./newEnglishNews_train.csv\", encoding=\"utf-8\", nrows=10).dropna().reset_index().drop(['index'], axis=1)\n",
    "df.head()"
   ]
  },
  {
   "cell_type": "code",
   "execution_count": 64,
   "metadata": {},
   "outputs": [
    {
     "data": {
      "text/plain": [
       "(10, 4)"
      ]
     },
     "execution_count": 64,
     "metadata": {},
     "output_type": "execute_result"
    }
   ],
   "source": [
    "df.shape"
   ]
  },
  {
   "cell_type": "markdown",
   "metadata": {},
   "source": [
    "# Preprocess and word tokenize all articles"
   ]
  },
  {
   "cell_type": "code",
   "execution_count": 65,
   "metadata": {},
   "outputs": [
    {
     "data": {
      "text/plain": [
       "'Barbie Movie Review: One mention of Barbie and you instantly think of a lean, tall-figured doll who is always well-dressed and has a perfect life. This stereotype is stuck with the doll for years, despite the numerous new designs and models being introduced. Director Greta Gerwig understood these stereotypes and even plays along with them for the first 15 to 20 minutes of the Barbie movie. However, she shatters the glass as soon as she is done playing with the &amp;#8216;doll&amp;#8217; and gets down to business to tell a relatable, feminist, and applaud-worthy movie that lives up to the hype.Barbie, starring Margot Robbie in the lead, is set in Barbie Land which has several kinds of Barbies co-existing. We see the stereotype Barbie (Margot), the President Barbie (Issa Rae), Physicist Barbie (Emma Mackey), and Lawyer Barbie (Sharon Rooney), among many more, running the Barbie land while the men, all of them named Ken, double up as their supporters, lovers, and partners.All goes well in the alter imaginary world until one day, the stereotypical Barbie wakes up feeling unusual emotions. She begins to wonder about death, loses her ability to walk on her toes, and exhibits sad emotions. When she approaches the &amp;#8216;Weird Barbie&amp;#8217; (Kate McKinnon), she learns that a portal between Barbie Land and the real world has led to Barbie feeling human-like emotions. She is advised to visit the real world to find answers.Driving through roads, crossing mountains and seas, Barbie and Ken (Ryan Gosling) roller-blade into Venice Beach in California where they meet Gloria (America Ferrera) and her daughter Sasha (Ariana Greenblatt). While Gloria is still a fan of Barbie, Sasha is not on board with the idea of Barbie and even calls her a fascist on her face. Barbie soon understands that her questions are being answered but Ken goes off on a different journey of &amp;#8216;self-discovery.&amp;#8217; He learns that in the real world, men are treated higher than women and that the concept of patriarchy plays to their benefit.Ken returns to Barbie Land and brings about drastic changes. On the other hand, Barbie also lands in her own world with the mother-daughter duo and finds out everything is changing. This leaves her worried. How will Barbie save her world? I&amp;#8217;d recommend you watch the film and find out.Greta, with co-writer Noah Baumbach, delivers a colourful, fresh, and probably one of the best concepts of the year. While the film starts off as though it is portraying a delusional world of Barbies, Greta smashes open the plot and lets you in on her feminist take on the popular doll. She is conveying some of the most powerful messages with the film, she is doing it under the garb of humour and coming-of-age, making the impact stronger.The dialogues and screenplay are the biggest superpowers of Barbie. Greta makes several pop culture references thus adopting the meta narration which helps Barbie take things a notch higher. She also takes digs at Margot Robbie, the concept of Barbie over the years, Warner Bros&amp;#8217; projects, and patriarchy, leaving everyone in splits. Barbie is so strong in its approach towards surprise humour that it somewhat reminded me of Phoebe Waller-Bridge&amp;#8217;s style of comedy.On the acting front, Margot proves she was meant to play the role of Barbie. The actress shifts gears from being the happy-go-lucky Barbie to the Barbie no one has ever seen before with utmost ease. However, Ryan Gosling steals the show. He channels his inner Kenergy so hard that he outshines Margot in a few scenes. He also shows his comedy side in the goofiest way possible. His rapport with Simu Liu in the film, especially in their musical scenes, is hilarious and you will find yourself asking for more of their scenes.America Ferrera also holds the screen in the film. Her monologue in the film was not only relatable but also very moving. That scene and her performance will be discussed in the days to come. However, she couldn&amp;#8217;t match up to Margot and Ryan&amp;#8217;s massive energy in the film. Kate McKinnon as Weird Barbie also knows how to hold the camera&amp;#8217;s attention but is outshined by Margot.However, Barbie has its share of flaws as well. The climax is based on convenience and shifts focus from Barbie to Ken, which backfires the whole build-up of the film. To top it off, it appeared as though Greta was confused about how to end the film so she brought in a strange subplot to wrap things off, paving the way to several questions but no answers.Bottom Line: Dear Barbies, take your Kens with you to watch the impressive Gret Gerwig directorial because the film talks about the various struggles women go through that men truly need to be reminded of. Watch the film for the dialogue writing and Margot and Ryan&amp;#8217;s performances.'"
      ]
     },
     "execution_count": 65,
     "metadata": {},
     "output_type": "execute_result"
    }
   ],
   "source": [
    "articles = df[\"Article\"]\n",
    "article = articles[0]\n",
    "article"
   ]
  },
  {
   "cell_type": "code",
   "execution_count": 66,
   "metadata": {},
   "outputs": [
    {
     "data": {
      "text/plain": [
       "'Barbie Movie Review: Ryan Gosling shines the brightest in the Greta Gerwig film. Margot Robbie proves she was meant for this role.'"
      ]
     },
     "execution_count": 66,
     "metadata": {},
     "output_type": "execute_result"
    }
   ],
   "source": [
    "all_summary = df[\"Summary\"]\n",
    "summary = all_summary[0]\n",
    "summary"
   ]
  },
  {
   "cell_type": "code",
   "execution_count": 67,
   "metadata": {},
   "outputs": [],
   "source": [
    "nltk.download('stopwords')\n",
    "\n",
    "stop_words = set(stopwords.words('english'))\n",
    "clear_output()\n",
    "\n",
    "# Preprocess the text\n",
    "def preprocess(text):\n",
    "    text = ' '.join(nltk.word_tokenize(text))\n",
    "    \n",
    "    # Lowercase\n",
    "    text = text.lower()\n",
    "\n",
    "    # Replace the newlines and punctuations with space\n",
    "    filters = '!\"\\'#$%&()*+,-./:;<=>?@[\\\\]^_`{|}~\\t\\n'\n",
    "    text = text.translate(str.maketrans(filters, ' '*len(filters)))\n",
    "\n",
    "    # Remove stopwords\n",
    "    text = ' '.join([word for word in text.split() if word not in stop_words])\n",
    "\n",
    "    # Remove punctuations and numbers\n",
    "    text = ' '.join([word for word in text.split() if word.isalpha()])\n",
    "    \n",
    "    # Remove single character\n",
    "    text = ' '.join([word for word in text.split() if len(word) > 2])\n",
    "    return text"
   ]
  },
  {
   "cell_type": "code",
   "execution_count": 68,
   "metadata": {},
   "outputs": [],
   "source": [
    "def word_tokenize_articles(articles):\n",
    "    preprocessed_articles = []\n",
    "    word_tokenized_articles_list = []\n",
    "    for article in articles:\n",
    "        sentences = nltk.sent_tokenize(article)\n",
    "        preprocessed_sentences = [preprocess(sentence) for sentence in sentences]\n",
    "\n",
    "        # Word tokenization after preprocessing\n",
    "        word_tokenized_sentences = [nltk.word_tokenize(sentence) for sentence in preprocessed_sentences]\n",
    "        word_tokenized_articles_list.append(word_tokenized_sentences)\n",
    "        preprocessed_articles.append(preprocessed_sentences)\n",
    "    \n",
    "    return word_tokenized_articles_list"
   ]
  },
  {
   "cell_type": "code",
   "execution_count": 69,
   "metadata": {},
   "outputs": [
    {
     "name": "stdout",
     "output_type": "stream",
     "text": [
      "Preprocessed and word tokenized article:  [['barbie', 'movie', 'review', 'one', 'mention', 'barbie', 'instantly', 'think', 'lean', 'tall', 'figured', 'doll', 'always', 'well', 'dressed', 'perfect', 'life'], ['stereotype', 'stuck', 'doll', 'years', 'despite', 'numerous', 'new', 'designs', 'models', 'introduced'], ['director', 'greta', 'gerwig', 'understood', 'stereotypes', 'even', 'plays', 'along', 'first', 'minutes', 'barbie', 'movie'], ['however', 'shatters', 'glass', 'soon', 'done', 'playing', 'amp', 'doll', 'amp', 'gets', 'business', 'tell', 'relatable', 'feminist', 'applaud', 'worthy', 'movie', 'lives', 'hype', 'barbie', 'starring', 'margot', 'robbie', 'lead', 'set', 'barbie', 'land', 'several', 'kinds', 'barbies', 'existing'], ['see', 'stereotype', 'barbie', 'margot', 'president', 'barbie', 'issa', 'rae', 'physicist', 'barbie', 'emma', 'mackey', 'lawyer', 'barbie', 'sharon', 'rooney', 'among', 'many', 'running', 'barbie', 'land', 'men', 'named', 'ken', 'double', 'supporters', 'lovers', 'partners', 'goes', 'well', 'alter', 'imaginary', 'world', 'one', 'day', 'stereotypical', 'barbie', 'wakes', 'feeling', 'unusual', 'emotions'], ['begins', 'wonder', 'death', 'loses', 'ability', 'walk', 'toes', 'exhibits', 'sad', 'emotions'], ['approaches', 'amp', 'weird', 'barbie', 'amp', 'kate', 'mckinnon', 'learns', 'portal', 'barbie', 'land', 'real', 'world', 'led', 'barbie', 'feeling', 'human', 'like', 'emotions'], ['advised', 'visit', 'real', 'world', 'find', 'answers', 'driving', 'roads', 'crossing', 'mountains', 'seas', 'barbie', 'ken', 'ryan', 'gosling', 'roller', 'blade', 'venice', 'beach', 'california', 'meet', 'gloria', 'america', 'ferrera', 'daughter', 'sasha', 'ariana', 'greenblatt'], ['gloria', 'still', 'fan', 'barbie', 'sasha', 'board', 'idea', 'barbie', 'even', 'calls', 'fascist', 'face'], ['barbie', 'soon', 'understands', 'questions', 'answered', 'ken', 'goes', 'different', 'journey', 'amp', 'self', 'discovery', 'amp', 'learns', 'real', 'world', 'men', 'treated', 'higher', 'women', 'concept', 'patriarchy', 'plays', 'benefit', 'ken', 'returns', 'barbie', 'land', 'brings', 'drastic', 'changes'], ['hand', 'barbie', 'also', 'lands', 'world', 'mother', 'daughter', 'duo', 'finds', 'everything', 'changing'], ['leaves', 'worried'], ['barbie', 'save', 'world'], ['amp', 'recommend', 'watch', 'film', 'find', 'greta', 'writer', 'noah', 'baumbach', 'delivers', 'colourful', 'fresh', 'probably', 'one', 'best', 'concepts', 'year'], ['film', 'starts', 'though', 'portraying', 'delusional', 'world', 'barbies', 'greta', 'smashes', 'open', 'plot', 'lets', 'feminist', 'take', 'popular', 'doll'], ['conveying', 'powerful', 'messages', 'film', 'garb', 'humour', 'coming', 'age', 'making', 'impact', 'stronger', 'dialogues', 'screenplay', 'biggest', 'superpowers', 'barbie'], ['greta', 'makes', 'several', 'pop', 'culture', 'references', 'thus', 'adopting', 'meta', 'narration', 'helps', 'barbie', 'take', 'things', 'notch', 'higher'], ['also', 'takes', 'digs', 'margot', 'robbie', 'concept', 'barbie', 'years', 'warner', 'bros', 'amp', 'projects', 'patriarchy', 'leaving', 'everyone', 'splits'], ['barbie', 'strong', 'approach', 'towards', 'surprise', 'humour', 'somewhat', 'reminded', 'phoebe', 'waller', 'bridge', 'amp', 'style', 'comedy', 'acting', 'front', 'margot', 'proves', 'meant', 'play', 'role', 'barbie'], ['actress', 'shifts', 'gears', 'happy', 'lucky', 'barbie', 'barbie', 'one', 'ever', 'seen', 'utmost', 'ease'], ['however', 'ryan', 'gosling', 'steals', 'show'], ['channels', 'inner', 'kenergy', 'hard', 'outshines', 'margot', 'scenes'], ['also', 'shows', 'comedy', 'side', 'goofiest', 'way', 'possible'], ['rapport', 'simu', 'liu', 'film', 'especially', 'musical', 'scenes', 'hilarious', 'find', 'asking', 'scenes', 'america', 'ferrera', 'also', 'holds', 'screen', 'film'], ['monologue', 'film', 'relatable', 'also', 'moving'], ['scene', 'performance', 'discussed', 'days', 'come'], ['however', 'amp', 'match', 'margot', 'ryan', 'amp', 'massive', 'energy', 'film'], ['kate', 'mckinnon', 'weird', 'barbie', 'also', 'knows', 'hold', 'camera', 'amp', 'attention', 'outshined', 'margot', 'however', 'barbie', 'share', 'flaws', 'well'], ['climax', 'based', 'convenience', 'shifts', 'focus', 'barbie', 'ken', 'backfires', 'whole', 'build', 'film'], ['top', 'appeared', 'though', 'greta', 'confused', 'end', 'film', 'brought', 'strange', 'subplot', 'wrap', 'things', 'paving', 'way', 'several', 'questions', 'answers', 'bottom', 'line', 'dear', 'barbies', 'take', 'kens', 'watch', 'impressive', 'gret', 'gerwig', 'directorial', 'film', 'talks', 'various', 'struggles', 'women', 'men', 'truly', 'need', 'reminded'], ['watch', 'film', 'dialogue', 'writing', 'margot', 'ryan', 'amp', 'performances']]\n"
     ]
    }
   ],
   "source": [
    "word_tokenized_articles = word_tokenize_articles(articles)\n",
    "print(\"Preprocessed and word tokenized article: \", word_tokenized_articles[0])"
   ]
  },
  {
   "cell_type": "markdown",
   "metadata": {},
   "source": [
    "# Generate BERT embeddings for setances and words"
   ]
  },
  {
   "cell_type": "markdown",
   "metadata": {},
   "source": [
    "## Make TF-IDF functions"
   ]
  },
  {
   "cell_type": "code",
   "execution_count": 70,
   "metadata": {},
   "outputs": [],
   "source": [
    "# Get IDF from here and make tf for each sentence while making bert embeddings\n",
    "def get_idf(word_tokenized_article):\n",
    "    words_frequency = {}                    # Number of times a word appears in the document\n",
    "    total_sentences_containing_word = {}    # Number of sentences containing a word\n",
    "    words_idf = {}                          # IDF of each word\n",
    "\n",
    "    for sentence in word_tokenized_article:\n",
    "        for word in sentence:\n",
    "            if word not in words_frequency.keys():\n",
    "                words_frequency[word] = 1\n",
    "            else:\n",
    "                words_frequency[word] += 1\n",
    "        \n",
    "        for word in set(sentence):\n",
    "            if word not in total_sentences_containing_word.keys():\n",
    "                total_sentences_containing_word[word] = 1\n",
    "            else:\n",
    "                total_sentences_containing_word[word] += 1\n",
    "\n",
    "\n",
    "    for word in words_frequency.keys():\n",
    "        words_idf[word] = np.log(len(word_tokenized_article) / words_frequency[word])\n",
    "\n",
    "    return words_frequency, words_idf\n"
   ]
  },
  {
   "cell_type": "markdown",
   "metadata": {},
   "source": [
    "## Generate sentance and word embedding for each article"
   ]
  },
  {
   "cell_type": "code",
   "execution_count": null,
   "metadata": {},
   "outputs": [],
   "source": [
    "# Get word embeddings for all the words\n",
    "model_name = \"distilbert-base-uncased\"\n",
    "tokenizer = AutoTokenizer.from_pretrained(model_name)\n",
    "model = TFAutoModel.from_pretrained(model_name)\n",
    "clear_output()"
   ]
  },
  {
   "cell_type": "code",
   "execution_count": 71,
   "metadata": {},
   "outputs": [],
   "source": [
    "# Get a common word embeddings for all the words in all the documents\n",
    "def get_word_embeddings(word_tokenized_articles):\n",
    "    # Get all the words in all the articles\n",
    "    all_words = []\n",
    "    for article in word_tokenized_articles:\n",
    "        for sentence in article:\n",
    "            for word in sentence:\n",
    "                all_words.append(word)\n",
    "    \n",
    "    # Get unique words\n",
    "    unique_words = list(set(all_words))\n",
    "    print(\"Number of unique words: \", len(unique_words))\n",
    "\n",
    "    all_words_embeddings = {}\n",
    "    for word in unique_words:\n",
    "        encoded_input = tokenizer(word, return_tensors='tf')\n",
    "        output = model(encoded_input)\n",
    "        all_words_embeddings[word] = output[0][0][0].numpy()\n",
    "\n",
    "    return all_words_embeddings"
   ]
  },
  {
   "cell_type": "code",
   "execution_count": 72,
   "metadata": {},
   "outputs": [],
   "source": [
    "all_articles_word_embeddings = get_word_embeddings(word_tokenized_articles)"
   ]
  },
  {
   "cell_type": "code",
   "execution_count": 73,
   "metadata": {},
   "outputs": [],
   "source": [
    "# Define a BERT model and tokenizer (replace with the specific BERT model you are using)\n",
    "model_name = \"bert-base-uncased\"  # Example: You can use a different pretrained model\n",
    "tokenizer = AutoTokenizer.from_pretrained(model_name)\n",
    "model = TFAutoModel.from_pretrained(model_name)\n",
    "clear_output()"
   ]
  },
  {
   "cell_type": "code",
   "execution_count": 74,
   "metadata": {},
   "outputs": [],
   "source": [
    "def get_embeddings(word_tokenize_article):\n",
    "    # Initialize lists to store sentence and word embeddings\n",
    "    sentence_embeddings = []\n",
    "    word_embeddings = []\n",
    "\n",
    "    # Store the tokenized input IDs, attention masks and token type IDs\n",
    "    input_ids = []\n",
    "    attention_masks = []\n",
    "\n",
    "\n",
    "    for sentence in word_tokenize_article:\n",
    "        # Convert words to BERT tokens\n",
    "        tokens = [tokenizer.cls_token] + sentence + [tokenizer.sep_token]\n",
    "\n",
    "        # Convert tokens to input IDs\n",
    "        _input_ids = tokenizer.convert_tokens_to_ids(tokens)\n",
    "\n",
    "        # Create attention masks by tf-idf values (freq of word in sentence / total sentences containing word)\n",
    "        words_frequency, words_idf = get_idf(word_tokenize_article)\n",
    "\n",
    "        words_tf = {}\n",
    "        for word in sentence:\n",
    "            if word not in words_tf.keys():\n",
    "                words_tf[word] = 1\n",
    "            else:\n",
    "                words_tf[word] += 1\n",
    "        \n",
    "        attention_mask = [0] + [words_tf[word]/words_frequency[word] * words_idf[word] for word in sentence] + [0]\n",
    "\n",
    "\n",
    "        # Create an input dictionary in the expected format\n",
    "        input_dict = {\n",
    "            'input_ids': tf.constant([_input_ids]),\n",
    "            'attention_mask': tf.constant([attention_mask]),\n",
    "        }\n",
    "\n",
    "        # Get BERT model output\n",
    "        with tf.device('/GPU:0'):\n",
    "            output = model(input_dict)\n",
    "\n",
    "        # Extract sentence and word embeddings\n",
    "        sentence_embedding = tf.reduce_mean(output.last_hidden_state, axis=1).numpy()  # Sentence embedding\n",
    "        word_embedding = output.last_hidden_state.numpy()  # Word embeddings\n",
    "\n",
    "        # Append to lists\n",
    "        sentence_embeddings.append(sentence_embedding.reshape(768, ))\n",
    "        # word_embeddings.append(word_embedding.reshape(-1, 768))\n",
    "\n",
    "        # Append to lists Attention masks and input IDs\n",
    "        input_ids.append(tf.constant([_input_ids]).numpy().reshape(-1))\n",
    "        attention_masks.append(tf.constant([attention_mask]).numpy().reshape(-1))\n",
    "\n",
    "    return sentence_embeddings"
   ]
  },
  {
   "cell_type": "code",
   "execution_count": 75,
   "metadata": {},
   "outputs": [],
   "source": [
    "# Store the sentence and word embeddings for each article \n",
    "all_articles_sentence_embeddings = []\n",
    "for article in word_tokenized_articles[:5]:\n",
    "    sentence_embedding = get_embeddings(article)\n",
    "    all_articles_sentence_embeddings.append(sentence_embedding)\n"
   ]
  },
  {
   "cell_type": "markdown",
   "metadata": {},
   "source": [
    "# Make all articles of equal length"
   ]
  },
  {
   "cell_type": "code",
   "execution_count": 78,
   "metadata": {},
   "outputs": [],
   "source": [
    "max_article_len = 0\n",
    "\n",
    "for article in word_tokenized_articles:\n",
    "    max_article_len = max(max_article_len, len(article))"
   ]
  },
  {
   "cell_type": "code",
   "execution_count": 79,
   "metadata": {},
   "outputs": [
    {
     "name": "stdout",
     "output_type": "stream",
     "text": [
      "Padded and truncated article:  [['barbie', 'movie', 'review', 'one', 'mention', 'barbie', 'instantly', 'think', 'lean', 'tall', 'figured', 'doll', 'always', 'well', 'dressed', 'perfect', 'life'], ['stereotype', 'stuck', 'doll', 'years', 'despite', 'numerous', 'new', 'designs', 'models', 'introduced'], ['director', 'greta', 'gerwig', 'understood', 'stereotypes', 'even', 'plays', 'along', 'first', 'minutes', 'barbie', 'movie'], ['however', 'shatters', 'glass', 'soon', 'done', 'playing', 'amp', 'doll', 'amp', 'gets', 'business', 'tell', 'relatable', 'feminist', 'applaud', 'worthy', 'movie', 'lives', 'hype', 'barbie', 'starring', 'margot', 'robbie', 'lead', 'set', 'barbie', 'land', 'several', 'kinds', 'barbies', 'existing'], ['see', 'stereotype', 'barbie', 'margot', 'president', 'barbie', 'issa', 'rae', 'physicist', 'barbie', 'emma', 'mackey', 'lawyer', 'barbie', 'sharon', 'rooney', 'among', 'many', 'running', 'barbie', 'land', 'men', 'named', 'ken', 'double', 'supporters', 'lovers', 'partners', 'goes', 'well', 'alter', 'imaginary', 'world', 'one', 'day', 'stereotypical', 'barbie', 'wakes', 'feeling', 'unusual', 'emotions'], ['begins', 'wonder', 'death', 'loses', 'ability', 'walk', 'toes', 'exhibits', 'sad', 'emotions'], ['approaches', 'amp', 'weird', 'barbie', 'amp', 'kate', 'mckinnon', 'learns', 'portal', 'barbie', 'land', 'real', 'world', 'led', 'barbie', 'feeling', 'human', 'like', 'emotions'], ['advised', 'visit', 'real', 'world', 'find', 'answers', 'driving', 'roads', 'crossing', 'mountains', 'seas', 'barbie', 'ken', 'ryan', 'gosling', 'roller', 'blade', 'venice', 'beach', 'california', 'meet', 'gloria', 'america', 'ferrera', 'daughter', 'sasha', 'ariana', 'greenblatt'], ['gloria', 'still', 'fan', 'barbie', 'sasha', 'board', 'idea', 'barbie', 'even', 'calls', 'fascist', 'face'], ['barbie', 'soon', 'understands', 'questions', 'answered', 'ken', 'goes', 'different', 'journey', 'amp', 'self', 'discovery', 'amp', 'learns', 'real', 'world', 'men', 'treated', 'higher', 'women', 'concept', 'patriarchy', 'plays', 'benefit', 'ken', 'returns', 'barbie', 'land', 'brings', 'drastic', 'changes'], ['hand', 'barbie', 'also', 'lands', 'world', 'mother', 'daughter', 'duo', 'finds', 'everything', 'changing'], ['leaves', 'worried'], ['barbie', 'save', 'world'], ['amp', 'recommend', 'watch', 'film', 'find', 'greta', 'writer', 'noah', 'baumbach', 'delivers', 'colourful', 'fresh', 'probably', 'one', 'best', 'concepts', 'year'], ['film', 'starts', 'though', 'portraying', 'delusional', 'world', 'barbies', 'greta', 'smashes', 'open', 'plot', 'lets', 'feminist', 'take', 'popular', 'doll'], ['conveying', 'powerful', 'messages', 'film', 'garb', 'humour', 'coming', 'age', 'making', 'impact', 'stronger', 'dialogues', 'screenplay', 'biggest', 'superpowers', 'barbie'], ['greta', 'makes', 'several', 'pop', 'culture', 'references', 'thus', 'adopting', 'meta', 'narration', 'helps', 'barbie', 'take', 'things', 'notch', 'higher'], ['also', 'takes', 'digs', 'margot', 'robbie', 'concept', 'barbie', 'years', 'warner', 'bros', 'amp', 'projects', 'patriarchy', 'leaving', 'everyone', 'splits'], ['barbie', 'strong', 'approach', 'towards', 'surprise', 'humour', 'somewhat', 'reminded', 'phoebe', 'waller', 'bridge', 'amp', 'style', 'comedy', 'acting', 'front', 'margot', 'proves', 'meant', 'play', 'role', 'barbie'], ['actress', 'shifts', 'gears', 'happy', 'lucky', 'barbie', 'barbie', 'one', 'ever', 'seen', 'utmost', 'ease'], ['however', 'ryan', 'gosling', 'steals', 'show'], ['channels', 'inner', 'kenergy', 'hard', 'outshines', 'margot', 'scenes'], ['also', 'shows', 'comedy', 'side', 'goofiest', 'way', 'possible'], ['rapport', 'simu', 'liu', 'film', 'especially', 'musical', 'scenes', 'hilarious', 'find', 'asking', 'scenes', 'america', 'ferrera', 'also', 'holds', 'screen', 'film'], ['monologue', 'film', 'relatable', 'also', 'moving'], ['scene', 'performance', 'discussed', 'days', 'come'], ['however', 'amp', 'match', 'margot', 'ryan', 'amp', 'massive', 'energy', 'film'], ['kate', 'mckinnon', 'weird', 'barbie', 'also', 'knows', 'hold', 'camera', 'amp', 'attention', 'outshined', 'margot', 'however', 'barbie', 'share', 'flaws', 'well'], ['climax', 'based', 'convenience', 'shifts', 'focus', 'barbie', 'ken', 'backfires', 'whole', 'build', 'film'], ['top', 'appeared', 'though', 'greta', 'confused', 'end', 'film', 'brought', 'strange', 'subplot', 'wrap', 'things', 'paving', 'way', 'several', 'questions', 'answers', 'bottom', 'line', 'dear', 'barbies', 'take', 'kens', 'watch', 'impressive', 'gret', 'gerwig', 'directorial', 'film', 'talks', 'various', 'struggles', 'women', 'men', 'truly', 'need', 'reminded'], ['watch', 'film', 'dialogue', 'writing', 'margot', 'ryan', 'amp', 'performances']]\n"
     ]
    }
   ],
   "source": [
    "padded_articles = []\n",
    "\n",
    "# Padding and truncating the articles\n",
    "for article in word_tokenized_articles:\n",
    "    while len(article) < max_article_len:\n",
    "        article.append([])\n",
    "    while len(article) > max_article_len:\n",
    "        article.pop()\n",
    "    padded_articles.append(article)\n",
    "\n",
    "print(\"Padded and truncated article: \", padded_articles[0])"
   ]
  },
  {
   "cell_type": "code",
   "execution_count": 80,
   "metadata": {},
   "outputs": [],
   "source": [
    "# Also make the sentance embeddings equal to the max_article_len\n",
    "padded_articles_sentence_embeddings = []\n",
    "\n",
    "for article in all_articles_sentence_embeddings:\n",
    "    while len(article) < max_article_len:\n",
    "        article = np.concatenate((article, np.zeros((1, 768))), axis=0)\n",
    "    while len(article) > max_article_len:\n",
    "        article = article[:-1]\n",
    "    padded_articles_sentence_embeddings.append(article)"
   ]
  },
  {
   "cell_type": "markdown",
   "metadata": {},
   "source": [
    "# Create a adjecency matrix for each article\n",
    "\n",
    "\n",
    "For each article need to make a s*w matrix\n",
    "\n",
    "- w:= Unique words in the whole dataset\n",
    "- s:- Number of sentances in each article"
   ]
  },
  {
   "cell_type": "code",
   "execution_count": 81,
   "metadata": {},
   "outputs": [],
   "source": [
    "all_unique_words = set()\n",
    "for article in padded_articles:\n",
    "    for sentence in article:\n",
    "        for word in sentence:\n",
    "            all_unique_words.add(word)\n",
    "\n",
    "all_unique_words = list(all_unique_words)"
   ]
  },
  {
   "cell_type": "code",
   "execution_count": 82,
   "metadata": {},
   "outputs": [
    {
     "name": "stdout",
     "output_type": "stream",
     "text": [
      "All unique words size:  1521\n",
      "Length of each articles:  31\n",
      "Matrix size:  10 31 1521\n"
     ]
    }
   ],
   "source": [
    "print(\"All unique words size: \", len(all_unique_words))\n",
    "print(\"Length of each articles: \", len(padded_articles[0]))\n",
    "print(\"Matrix size: \", len(padded_articles), len(padded_articles[0]), len(all_unique_words))"
   ]
  },
  {
   "cell_type": "code",
   "execution_count": 96,
   "metadata": {},
   "outputs": [],
   "source": [
    "# For each article create a s*w matrix where s is the number of sentences and w is the number of unique words\n",
    "# and the value of each cell is the tf-idf value of the word in the sentence\n",
    "\n",
    "all_articles_adjacency_matrices = []\n",
    "for article in padded_articles:\n",
    "    article_adjacency_matrix = []\n",
    "    words_frequency, words_idf = get_idf(article)\n",
    "    for sentence in article:\n",
    "        # GET TF-IDF VALUES OF WORDS IN THE SENTENCE\n",
    "        words_tf = {}\n",
    "        for word in sentence:\n",
    "            if word not in words_tf.keys():\n",
    "                words_tf[word] = 1\n",
    "            else:\n",
    "                words_tf[word] += 1\n",
    "        words_tf_idf = {}\n",
    "        for word in words_tf.keys():\n",
    "            words_tf_idf[word] = words_tf[word]/words_frequency[word] * words_idf[word]\n",
    "\n",
    "        # CREATE ADJACENCY MATRIX\n",
    "        sentence_adjacency_matrix = []\n",
    "        for word in all_unique_words:\n",
    "            if word in sentence:\n",
    "                sentence_adjacency_matrix.append(words_tf_idf[word])\n",
    "            else:\n",
    "                sentence_adjacency_matrix.append(0)\n",
    "        article_adjacency_matrix.append(sentence_adjacency_matrix)\n",
    "    all_articles_adjacency_matrices.append(article_adjacency_matrix)"
   ]
  },
  {
   "cell_type": "code",
   "execution_count": 97,
   "metadata": {},
   "outputs": [
    {
     "name": "stdout",
     "output_type": "stream",
     "text": [
      "Number of non zero values in the first article:  431\n"
     ]
    }
   ],
   "source": [
    "# check how many non zero values are there in the first article\n",
    "count = 0\n",
    "for i in range(len(all_articles_adjacency_matrices[0])):\n",
    "    for j in range(len(all_articles_adjacency_matrices[0][i])):\n",
    "        if all_articles_adjacency_matrices[0][i][j] != 0:\n",
    "            count += 1\n",
    "print(\"Number of non zero values in the first article: \", count)"
   ]
  },
  {
   "cell_type": "markdown",
   "metadata": {},
   "source": [
    "## Create Graph for each article:-\n",
    "- Node Features\n",
    "- Edges"
   ]
  },
  {
   "cell_type": "code",
   "execution_count": 102,
   "metadata": {},
   "outputs": [],
   "source": [
    "# Sentances numbers are from 0 to all the sentances in the article\n",
    "# Words numbers are from #number of sentance to all the unique words in all the articles\n",
    "# So the total number of nodes are the number of sentances + number of unique words\n",
    "\n",
    "# From the adjecency matrix create a list of edges with the weights\n",
    "all_articles_edges = []\n",
    "for article in all_articles_adjacency_matrices:\n",
    "    article_edges = []\n",
    "    for i in range(len(article)):\n",
    "        for j in range(len(article[i])):\n",
    "            if article[i][j] != 0:\n",
    "                article_edges.append((i, j+len(article), article[i][j]))\n",
    "    all_articles_edges.append(article_edges)"
   ]
  },
  {
   "cell_type": "code",
   "execution_count": 111,
   "metadata": {},
   "outputs": [
    {
     "data": {
      "text/plain": [
       "431"
      ]
     },
     "execution_count": 111,
     "metadata": {},
     "output_type": "execute_result"
    }
   ],
   "source": [
    "len(all_articles_edges[0])"
   ]
  },
  {
   "cell_type": "code",
   "execution_count": 120,
   "metadata": {},
   "outputs": [
    {
     "name": "stdout",
     "output_type": "stream",
     "text": [
      "31\n"
     ]
    },
    {
     "data": {
      "image/png": "[encoded data removed]",
      "text/plain": [
       "<Figure size 432x288 with 1 Axes>"
      ]
     },
     "metadata": {},
     "output_type": "display_data"
    }
   ],
   "source": [
    "# Create a graph for first article edges\n",
    "import networkx as nx\n",
    "import matplotlib.pyplot as plt\n",
    "\n",
    "# Plot as a bipartite graph with sentances and words\n",
    "G = nx.Graph()\n",
    "G.add_weighted_edges_from(all_articles_edges[0])\n",
    "# G.add_weighted_edges_from(all_articles_edges[0][:30])\n",
    "# One side for up to max_article_len nodes and the other side for the rest\n",
    "pos = {}\n",
    "for i in range(len(padded_articles[0])):\n",
    "    pos[i] = (0, i)\n",
    "\n",
    "for i in range(len(padded_articles[0]), len(padded_articles[0])+len(all_unique_words)):\n",
    "    pos[i] = (1, i-len(padded_articles[0]))\n",
    "\n",
    "nx.draw(G, pos, with_labels=False, font_weight='bold')\n",
    "plt.show()"
   ]
  },
  {
   "cell_type": "markdown",
   "metadata": {},
   "source": [
    "# Auto endcoder model\n",
    "\n",
    "- Node Features = [Sentance Embeddings, Word Embeddings]\n",
    "- Edges = [edges between sentace and word node]"
   ]
  },
  {
   "cell_type": "code",
   "execution_count": 147,
   "metadata": {},
   "outputs": [],
   "source": [
    "from tensorflow.keras import layers, models\n",
    "\n",
    "# Create a Keras Graph model\n",
    "class GraphAutoencoder(tf.keras.Model):\n",
    "    def __init__(self, input_size, hidden_size):\n",
    "        super(GraphAutoencoder, self).__init__()\n",
    "\n",
    "        # Encoder\n",
    "        self.encoder = layers.Dense(hidden_size, activation='relu')\n",
    "\n",
    "        # Decoder\n",
    "        self.decoder = layers.Dense(input_size, activation='sigmoid')\n",
    "\n",
    "    def call(self, inputs_node_features, inputs_adj_matrix=None, training=None, mask=None):\n",
    "        x = self.encoder(inputs_node_features)\n",
    "        x = self.decoder(x)\n",
    "        return x\n"
   ]
  },
  {
   "cell_type": "code",
   "execution_count": 148,
   "metadata": {},
   "outputs": [],
   "source": [
    "\n",
    "# Instantiate the model\n",
    "input_size = 768 # Size of node features\n",
    "hidden_size = 256\n",
    "model = GraphAutoencoder(input_size, hidden_size)\n",
    "\n",
    "# Define the loss function and optimizer\n",
    "loss_fn = tf.keras.losses.MeanSquaredError()\n",
    "optimizer = tf.keras.optimizers.Adam(learning_rate=0.01)\n"
   ]
  },
  {
   "cell_type": "code",
   "execution_count": 149,
   "metadata": {},
   "outputs": [
    {
     "data": {
      "text/plain": [
       "768"
      ]
     },
     "execution_count": 149,
     "metadata": {},
     "output_type": "execute_result"
    }
   ],
   "source": [
    "len(padded_articles_sentence_embeddings[1][0])"
   ]
  },
  {
   "cell_type": "code",
   "execution_count": 150,
   "metadata": {},
   "outputs": [],
   "source": [
    "# Create node features from the sentence embeddings for each article\n",
    "all_articles_node_features = []\n",
    "for article in padded_articles_sentence_embeddings:\n",
    "    article_node_features = []\n",
    "    for sentence in article:\n",
    "        article_node_features.append(sentence)\n",
    "    all_articles_node_features.append(article_node_features)\n",
    "\n",
    "# Convert to tensor node_features_tensor,adjacency_matrix_tensor\n",
    "node_features_tensor = tf.constant(all_articles_node_features)\n",
    "adjacency_matrix_tensor = tf.constant(all_articles_adjacency_matrices)"
   ]
  },
  {
   "cell_type": "code",
   "execution_count": 151,
   "metadata": {},
   "outputs": [
    {
     "name": "stdout",
     "output_type": "stream",
     "text": [
      "Input shape:  (5, 31, 768)\n",
      "Training shape:  (10, 31, 1521)\n",
      "Epoch 1/1, Loss: 0.3708\n"
     ]
    }
   ],
   "source": [
    "\n",
    "# Training loop\n",
    "num_epochs = 1\n",
    "\n",
    "for epoch in range(num_epochs):\n",
    "    with tf.GradientTape() as tape:\n",
    "        reconstructed_features = model(node_features_tensor,adjacency_matrix_tensor)\n",
    "        loss = loss_fn(node_features_tensor, reconstructed_features)\n",
    "\n",
    "    gradients = tape.gradient(loss, model.trainable_variables)\n",
    "    optimizer.apply_gradients(zip(gradients, model.trainable_variables))\n",
    "\n",
    "    if epoch % 10 == 0:\n",
    "        print(f'Epoch {epoch + 1}/{num_epochs}, Loss: {loss.numpy():.4f}')"
   ]
  },
  {
   "cell_type": "code",
   "execution_count": 142,
   "metadata": {},
   "outputs": [
    {
     "name": "stdout",
     "output_type": "stream",
     "text": [
      "[[0.0000000e+00 9.2922093e-21 9.6255267e-32 ... 1.2514994e-30\n",
      "  2.6186494e-36 0.0000000e+00]\n",
      " [0.0000000e+00 1.5590403e-27 0.0000000e+00 ... 0.0000000e+00\n",
      "  0.0000000e+00 0.0000000e+00]\n",
      " [0.0000000e+00 8.7493497e-23 1.0816269e-34 ... 2.2251794e-33\n",
      "  0.0000000e+00 0.0000000e+00]\n",
      " ...\n",
      " [0.0000000e+00 8.8576142e-24 8.7041136e-37 ... 5.1774035e-35\n",
      "  0.0000000e+00 0.0000000e+00]\n",
      " [0.0000000e+00 1.6249732e-25 3.6056323e-38 ... 4.2395547e-37\n",
      "  0.0000000e+00 0.0000000e+00]\n",
      " [0.0000000e+00 1.9557367e-26 0.0000000e+00 ... 0.0000000e+00\n",
      "  0.0000000e+00 0.0000000e+00]]\n"
     ]
    }
   ],
   "source": [
    "# After training, you can use the learned embeddings for downstream tasks\n",
    "node_features = np.array(all_articles_node_features[0], dtype=np.float32)\n",
    "node_features_tensor = tf.constant(node_features)\n",
    "learned_embeddings = model(node_features_tensor).numpy()\n",
    "# print(learned_embeddings)"
   ]
  },
  {
   "cell_type": "code",
   "execution_count": 146,
   "metadata": {},
   "outputs": [
    {
     "data": {
      "text/plain": [
       "(31, 768)"
      ]
     },
     "execution_count": 146,
     "metadata": {},
     "output_type": "execute_result"
    }
   ],
   "source": [
    "len(learned_embeddings), len(learned_embeddings[0])"
   ]
  },
  {
   "cell_type": "code",
   "execution_count": 145,
   "metadata": {},
   "outputs": [
    {
     "name": "stdout",
     "output_type": "stream",
     "text": [
      "Number of values greater than 0.4:  1336  out of  23808\n"
     ]
    }
   ],
   "source": [
    "# Get total count greater than 0.1\n",
    "count = 0\n",
    "for i in range(len(learned_embeddings)):\n",
    "    for j in range(len(learned_embeddings[i])):\n",
    "        if learned_embeddings[i][j] > 0.4:\n",
    "            count += 1\n",
    "print(\"Number of values greater than 0.4: \", count, \" out of \", len(learned_embeddings)*len(learned_embeddings[0]))"
   ]
  },
  {
   "cell_type": "code",
   "execution_count": 93,
   "metadata": {},
   "outputs": [],
   "source": [
    "# import tensorflow as tf\n",
    "# from tensorflow.keras.layers import Input, Dropout, Dense, Layer, LeakyReLU\n",
    "# from tensorflow.keras.models import Model\n",
    "\n",
    "# class GraphAttention(Layer):\n",
    "#     def __init__(self, units, attn_heads=1, dropout_rate=0.5, activation='relu', **kwargs):\n",
    "#         super(GraphAttention, self).__init__(**kwargs)\n",
    "#         self.units = units\n",
    "#         self.attn_heads = attn_heads\n",
    "#         self.dropout_rate = dropout_rate\n",
    "#         self.activation = tf.keras.activations.get(activation)\n",
    "\n",
    "#     def build(self, input_shape):\n",
    "#         self.W = self.add_weight(\n",
    "#             shape=(input_shape[0][-1], self.units * self.attn_heads),\n",
    "#             initializer='glorot_uniform',\n",
    "#             trainable=True,\n",
    "#             name='kernel'\n",
    "#         )\n",
    "#         self.b = self.add_weight(\n",
    "#             shape=(self.units * self.attn_heads,),\n",
    "#             initializer='zeros',\n",
    "#             trainable=True,\n",
    "#             name='bias'\n",
    "#         )\n",
    "#         super(GraphAttention, self).build(input_shape)\n",
    "\n",
    "#     def call(self, inputs):\n",
    "#         X, A = inputs\n",
    "#         h = tf.matmul(X, self.W) + self.b\n",
    "#         h = tf.reshape(h, (-1, self.attn_heads, self.units))\n",
    "#         attn_coeffs = tf.nn.softmax(tf.matmul(tf.matmul(h, tf.transpose(h, [0, 2, 1])), A))\n",
    "#         out = tf.matmul(attn_coeffs, h)\n",
    "#         out = tf.reshape(out, (-1, self.units * self.attn_heads))\n",
    "#         out = self.activation(out)\n",
    "#         return out\n",
    "\n",
    "# def graph_autoencoder_gat(node_features_shape, num_nodes, latent_dim):\n",
    "#     # Encoder\n",
    "#     encoder_inputs = Input(shape=node_features_shape)\n",
    "#     A = Input(shape=(num_nodes, num_nodes))  # Adjacency matrix placeholder\n",
    "\n",
    "#     encoder = GraphAttention(units=64)([encoder_inputs, A])\n",
    "#     encoder = Dropout(0.2)(encoder)\n",
    "#     encoder = GraphAttention(units=latent_dim)([encoder, A])\n",
    "\n",
    "#     # Decoder\n",
    "#     decoder = GraphAttention(units=64)([encoder, A])\n",
    "#     decoder = Dropout(0.2)(decoder)\n",
    "#     decoder_outputs = GraphAttention(units=node_features_shape[0], activation='sigmoid')([decoder, A])\n",
    "\n",
    "#     # Autoencoder model\n",
    "#     autoencoder = Model([encoder_inputs, A], decoder_outputs)\n",
    "\n",
    "#     # Compile the model\n",
    "#     autoencoder.compile(optimizer='adam', loss='mean_squared_error')\n",
    "\n",
    "#     return autoencoder\n"
   ]
  },
  {
   "cell_type": "code",
   "execution_count": 100,
   "metadata": {},
   "outputs": [
    {
     "name": "stdout",
     "output_type": "stream",
     "text": [
      "Epoch 1/100, Loss: 4.5801\n",
      "Epoch 11/100, Loss: 3.2369\n",
      "Epoch 21/100, Loss: 3.1734\n",
      "Epoch 31/100, Loss: 3.1687\n",
      "Epoch 41/100, Loss: 3.1678\n",
      "Epoch 51/100, Loss: 3.1676\n",
      "Epoch 61/100, Loss: 3.1674\n",
      "Epoch 71/100, Loss: 3.1674\n",
      "Epoch 81/100, Loss: 3.1673\n",
      "Epoch 91/100, Loss: 3.1673\n",
      "[[0.99877673 0.999742  ]\n",
      " [0.9999231  0.9999918 ]\n",
      " [0.9999951  0.99999976]]\n"
     ]
    }
   ],
   "source": [
    "# import numpy as np\n",
    "# import tensorflow as tf\n",
    "# from tensorflow.keras import layers, models\n",
    "\n",
    "# # Define a simple graph (you can replace this with your own graph data)\n",
    "# adjacency_matrix = np.array([[[0, 1, 0, 1], [1, 0, 1, 0], [0, 1, 0, 0]],[[0, 1, 0, 1], [1, 0, 1, 0], [0, 1, 0, 0]]], dtype=np.float32)\n",
    "# node_features = np.array([[[1.0,2.0], [2.0,3.0], [3.0,4.0]],[[1.0,2.0], [2.0,3.0], [3.0,4.0]]], dtype=np.float32)\n",
    "\n",
    "# # Create a Keras Graph model\n",
    "# class GraphAutoencoder(tf.keras.Model):\n",
    "#     def __init__(self, input_size, hidden_size):\n",
    "#         super(GraphAutoencoder, self).__init__()\n",
    "\n",
    "#         # Encoder\n",
    "#         self.encoder = layers.Dense(hidden_size, activation='relu')\n",
    "\n",
    "#         # Decoder\n",
    "#         self.decoder = layers.Dense(input_size, activation='sigmoid')\n",
    "\n",
    "#     def call(self, inputs, training=None, mask=None):\n",
    "#         x = self.encoder(inputs)\n",
    "#         x = self.decoder(x)\n",
    "#         return x\n",
    "# # Instantiate the model\n",
    "# input_size = 2 # Size of node features\n",
    "# hidden_size = 64\n",
    "# model = GraphAutoencoder(input_size, hidden_size)\n",
    "\n",
    "# # Define the loss function and optimizer\n",
    "# loss_fn = tf.keras.losses.MeanSquaredError()\n",
    "# optimizer = tf.keras.optimizers.Adam(learning_rate=0.01)\n",
    "\n",
    "# # Convert numpy arrays to TensorFlow tensors\n",
    "# adjacency_matrix_tensor = tf.constant(adjacency_matrix)\n",
    "# node_features_tensor = tf.constant(node_features)\n",
    "\n",
    "# # Training loop\n",
    "# num_epochs = 100\n",
    "\n",
    "# for epoch in range(num_epochs):\n",
    "#     with tf.GradientTape() as tape:\n",
    "#         reconstructed_features = model(node_features_tensor,adjacency_matrix_tensor)\n",
    "#         loss = loss_fn(node_features_tensor, reconstructed_features)\n",
    "\n",
    "#     gradients = tape.gradient(loss, model.trainable_variables)\n",
    "#     optimizer.apply_gradients(zip(gradients, model.trainable_variables))\n",
    "\n",
    "#     if epoch % 10 == 0:\n",
    "#         print(f'Epoch {epoch + 1}/{num_epochs}, Loss: {loss.numpy():.4f}')\n",
    "\n",
    "# # After training, you can use the learned embeddings for downstream tasks\n",
    "# node_features = np.array([[2.0,2.0], [3.0,3.0], [4.0,4.0]], dtype=np.float32)\n",
    "# node_features_tensor = tf.constant(node_features)\n",
    "# learned_embeddings = model(node_features_tensor).numpy()\n",
    "# print(learned_embeddings)"
   ]
  },
  {
   "cell_type": "code",
   "execution_count": 118,
   "metadata": {},
   "outputs": [
    {
     "ename": "ValueError",
     "evalue": "Exception encountered when calling layer \"graph_attention_5\" (type GraphAttention).\n\nin user code:\n\n    File \"C:\\Users\\PULKIT\\AppData\\Local\\Temp\\ipykernel_16548\\550451204.py\", line 34, in call  *\n        attn_coeffs = tf.nn.softmax(tf.matmul(tf.matmul(h, tf.transpose(h, [0, 2, 1])), A))\n\n    ValueError: Dimensions must be equal, but are 1 and 50 for '{{node graph_attention_5/MatMul_2}} = BatchMatMulV2[T=DT_FLOAT, adj_x=false, adj_y=false](graph_attention_5/MatMul_1, Placeholder_1)' with input shapes: [?,1,1], [?,50,50].\n\n\nCall arguments received by layer \"graph_attention_5\" (type GraphAttention):\n  • inputs=['tf.Tensor(shape=(None, 10), dtype=float32)', 'tf.Tensor(shape=(None, 50, 50), dtype=float32)']",
     "output_type": "error",
     "traceback": [
      "\u001b[1;31m---------------------------------------------------------------------------\u001b[0m",
      "\u001b[1;31mValueError\u001b[0m                                Traceback (most recent call last)",
      "\u001b[1;32md:\\Pulkit\\sem7\\Minor Project\\main.ipynb Cell 39\u001b[0m line \u001b[0;36m<cell line: 76>\u001b[1;34m()\u001b[0m\n\u001b[0;32m     <a href='vscode-notebook-cell:/d%3A/Pulkit/sem7/Minor%20Project/main.ipynb#X41sZmlsZQ%3D%3D?line=73'>74</a>\u001b[0m \u001b[39m# Create the graph autoencoder model\u001b[39;00m\n\u001b[0;32m     <a href='vscode-notebook-cell:/d%3A/Pulkit/sem7/Minor%20Project/main.ipynb#X41sZmlsZQ%3D%3D?line=74'>75</a>\u001b[0m latent_dim \u001b[39m=\u001b[39m \u001b[39m32\u001b[39m  \u001b[39m# Adjust as needed\u001b[39;00m\n\u001b[1;32m---> <a href='vscode-notebook-cell:/d%3A/Pulkit/sem7/Minor%20Project/main.ipynb#X41sZmlsZQ%3D%3D?line=75'>76</a>\u001b[0m model \u001b[39m=\u001b[39m graph_autoencoder_gat(node_features_shape, num_nodes, latent_dim)\n\u001b[0;32m     <a href='vscode-notebook-cell:/d%3A/Pulkit/sem7/Minor%20Project/main.ipynb#X41sZmlsZQ%3D%3D?line=77'>78</a>\u001b[0m \u001b[39m# Train the model\u001b[39;00m\n\u001b[0;32m     <a href='vscode-notebook-cell:/d%3A/Pulkit/sem7/Minor%20Project/main.ipynb#X41sZmlsZQ%3D%3D?line=78'>79</a>\u001b[0m model\u001b[39m.\u001b[39mfit([node_features_train, adj_matrices_train], node_features_train, epochs\u001b[39m=\u001b[39m\u001b[39m10\u001b[39m, batch_size\u001b[39m=\u001b[39m\u001b[39m32\u001b[39m, validation_split\u001b[39m=\u001b[39m\u001b[39m0.2\u001b[39m)\n",
      "\u001b[1;32md:\\Pulkit\\sem7\\Minor Project\\main.ipynb Cell 39\u001b[0m line \u001b[0;36mgraph_autoencoder_gat\u001b[1;34m(node_features_shape, num_nodes, latent_dim)\u001b[0m\n\u001b[0;32m     <a href='vscode-notebook-cell:/d%3A/Pulkit/sem7/Minor%20Project/main.ipynb#X41sZmlsZQ%3D%3D?line=41'>42</a>\u001b[0m encoder_inputs \u001b[39m=\u001b[39m Input(shape\u001b[39m=\u001b[39mnode_features_shape)\n\u001b[0;32m     <a href='vscode-notebook-cell:/d%3A/Pulkit/sem7/Minor%20Project/main.ipynb#X41sZmlsZQ%3D%3D?line=42'>43</a>\u001b[0m A \u001b[39m=\u001b[39m Input(shape\u001b[39m=\u001b[39m(num_nodes, num_nodes))  \u001b[39m# Adjacency matrix placeholder\u001b[39;00m\n\u001b[1;32m---> <a href='vscode-notebook-cell:/d%3A/Pulkit/sem7/Minor%20Project/main.ipynb#X41sZmlsZQ%3D%3D?line=44'>45</a>\u001b[0m encoder \u001b[39m=\u001b[39m GraphAttention(units\u001b[39m=\u001b[39;49m\u001b[39m64\u001b[39;49m)([encoder_inputs, A])\n\u001b[0;32m     <a href='vscode-notebook-cell:/d%3A/Pulkit/sem7/Minor%20Project/main.ipynb#X41sZmlsZQ%3D%3D?line=45'>46</a>\u001b[0m encoder \u001b[39m=\u001b[39m Dropout(\u001b[39m0.2\u001b[39m)(encoder)\n\u001b[0;32m     <a href='vscode-notebook-cell:/d%3A/Pulkit/sem7/Minor%20Project/main.ipynb#X41sZmlsZQ%3D%3D?line=46'>47</a>\u001b[0m encoder \u001b[39m=\u001b[39m Reshape((num_nodes \u001b[39m*\u001b[39m latent_dim,))(encoder)  \u001b[39m# Reshape to match decoder input size\u001b[39;00m\n",
      "File \u001b[1;32mc:\\Users\\PULKIT\\anaconda3\\lib\\site-packages\\keras\\utils\\traceback_utils.py:67\u001b[0m, in \u001b[0;36mfilter_traceback.<locals>.error_handler\u001b[1;34m(*args, **kwargs)\u001b[0m\n\u001b[0;32m     65\u001b[0m \u001b[39mexcept\u001b[39;00m \u001b[39mException\u001b[39;00m \u001b[39mas\u001b[39;00m e:  \u001b[39m# pylint: disable=broad-except\u001b[39;00m\n\u001b[0;32m     66\u001b[0m   filtered_tb \u001b[39m=\u001b[39m _process_traceback_frames(e\u001b[39m.\u001b[39m__traceback__)\n\u001b[1;32m---> 67\u001b[0m   \u001b[39mraise\u001b[39;00m e\u001b[39m.\u001b[39mwith_traceback(filtered_tb) \u001b[39mfrom\u001b[39;00m \u001b[39mNone\u001b[39m\n\u001b[0;32m     68\u001b[0m \u001b[39mfinally\u001b[39;00m:\n\u001b[0;32m     69\u001b[0m   \u001b[39mdel\u001b[39;00m filtered_tb\n",
      "File \u001b[1;32m~\\AppData\\Local\\Temp\\__autograph_generated_file7r46vrj5.py:13\u001b[0m, in \u001b[0;36mouter_factory.<locals>.inner_factory.<locals>.tf__call\u001b[1;34m(self, inputs)\u001b[0m\n\u001b[0;32m     11\u001b[0m h \u001b[39m=\u001b[39m ag__\u001b[39m.\u001b[39mconverted_call(ag__\u001b[39m.\u001b[39mld(tf)\u001b[39m.\u001b[39mmatmul, (ag__\u001b[39m.\u001b[39mld(X), ag__\u001b[39m.\u001b[39mld(\u001b[39mself\u001b[39m)\u001b[39m.\u001b[39mW), \u001b[39mNone\u001b[39;00m, fscope) \u001b[39m+\u001b[39m ag__\u001b[39m.\u001b[39mld(\u001b[39mself\u001b[39m)\u001b[39m.\u001b[39mb\n\u001b[0;32m     12\u001b[0m h \u001b[39m=\u001b[39m ag__\u001b[39m.\u001b[39mconverted_call(ag__\u001b[39m.\u001b[39mld(tf)\u001b[39m.\u001b[39mreshape, (ag__\u001b[39m.\u001b[39mld(h), (\u001b[39m-\u001b[39m\u001b[39m1\u001b[39m, ag__\u001b[39m.\u001b[39mld(\u001b[39mself\u001b[39m)\u001b[39m.\u001b[39mattn_heads, ag__\u001b[39m.\u001b[39mld(\u001b[39mself\u001b[39m)\u001b[39m.\u001b[39munits)), \u001b[39mNone\u001b[39;00m, fscope)\n\u001b[1;32m---> 13\u001b[0m attn_coeffs \u001b[39m=\u001b[39m ag__\u001b[39m.\u001b[39mconverted_call(ag__\u001b[39m.\u001b[39mld(tf)\u001b[39m.\u001b[39mnn\u001b[39m.\u001b[39msoftmax, (ag__\u001b[39m.\u001b[39mconverted_call(ag__\u001b[39m.\u001b[39mld(tf)\u001b[39m.\u001b[39mmatmul, (ag__\u001b[39m.\u001b[39mconverted_call(ag__\u001b[39m.\u001b[39mld(tf)\u001b[39m.\u001b[39mmatmul, (ag__\u001b[39m.\u001b[39mld(h), ag__\u001b[39m.\u001b[39mconverted_call(ag__\u001b[39m.\u001b[39mld(tf)\u001b[39m.\u001b[39mtranspose, (ag__\u001b[39m.\u001b[39mld(h), [\u001b[39m0\u001b[39m, \u001b[39m2\u001b[39m, \u001b[39m1\u001b[39m]), \u001b[39mNone\u001b[39;00m, fscope)), \u001b[39mNone\u001b[39;00m, fscope), ag__\u001b[39m.\u001b[39mld(A)), \u001b[39mNone\u001b[39;00m, fscope),), \u001b[39mNone\u001b[39;00m, fscope)\n\u001b[0;32m     14\u001b[0m out \u001b[39m=\u001b[39m ag__\u001b[39m.\u001b[39mconverted_call(ag__\u001b[39m.\u001b[39mld(tf)\u001b[39m.\u001b[39mmatmul, (ag__\u001b[39m.\u001b[39mld(attn_coeffs), ag__\u001b[39m.\u001b[39mld(h)), \u001b[39mNone\u001b[39;00m, fscope)\n\u001b[0;32m     15\u001b[0m out \u001b[39m=\u001b[39m ag__\u001b[39m.\u001b[39mconverted_call(ag__\u001b[39m.\u001b[39mld(tf)\u001b[39m.\u001b[39mreshape, (ag__\u001b[39m.\u001b[39mld(out), (\u001b[39m-\u001b[39m\u001b[39m1\u001b[39m, ag__\u001b[39m.\u001b[39mld(\u001b[39mself\u001b[39m)\u001b[39m.\u001b[39munits \u001b[39m*\u001b[39m ag__\u001b[39m.\u001b[39mld(\u001b[39mself\u001b[39m)\u001b[39m.\u001b[39mattn_heads)), \u001b[39mNone\u001b[39;00m, fscope)\n",
      "\u001b[1;31mValueError\u001b[0m: Exception encountered when calling layer \"graph_attention_5\" (type GraphAttention).\n\nin user code:\n\n    File \"C:\\Users\\PULKIT\\AppData\\Local\\Temp\\ipykernel_16548\\550451204.py\", line 34, in call  *\n        attn_coeffs = tf.nn.softmax(tf.matmul(tf.matmul(h, tf.transpose(h, [0, 2, 1])), A))\n\n    ValueError: Dimensions must be equal, but are 1 and 50 for '{{node graph_attention_5/MatMul_2}} = BatchMatMulV2[T=DT_FLOAT, adj_x=false, adj_y=false](graph_attention_5/MatMul_1, Placeholder_1)' with input shapes: [?,1,1], [?,50,50].\n\n\nCall arguments received by layer \"graph_attention_5\" (type GraphAttention):\n  • inputs=['tf.Tensor(shape=(None, 10), dtype=float32)', 'tf.Tensor(shape=(None, 50, 50), dtype=float32)']"
     ]
    }
   ],
   "source": [
    "# import numpy as np\n",
    "# import tensorflow as tf\n",
    "# from tensorflow.keras.layers import Input, Dropout, Reshape\n",
    "# from tensorflow.keras.models import Model\n",
    "# from sklearn.model_selection import train_test_split\n",
    "\n",
    "# class GraphAttention(tf.keras.layers.Layer):\n",
    "#     def __init__(self, units, attn_heads=1, dropout_rate=0.5, activation='relu', **kwargs):\n",
    "#         super(GraphAttention, self).__init__(**kwargs)\n",
    "#         self.units = units\n",
    "#         self.attn_heads = attn_heads\n",
    "#         self.dropout_rate = dropout_rate\n",
    "#         self.activation = tf.keras.activations.get(activation)\n",
    "\n",
    "#     def build(self, input_shape):\n",
    "#         self.W = self.add_weight(\n",
    "#             shape=(input_shape[0][-1], self.units * self.attn_heads),\n",
    "#             initializer='glorot_uniform',\n",
    "#             trainable=True,\n",
    "#             name='kernel'\n",
    "#         )\n",
    "#         self.b = self.add_weight(\n",
    "#             shape=(self.units * self.attn_heads,),\n",
    "#             initializer='zeros',\n",
    "#             trainable=True,\n",
    "#             name='bias'\n",
    "#         )\n",
    "#         super(GraphAttention, self).build(input_shape)\n",
    "\n",
    "#     def call(self, inputs):\n",
    "#         X, A = inputs\n",
    "#         h = tf.matmul(X, self.W) + self.b\n",
    "#         h = tf.reshape(h, (-1, self.attn_heads, self.units))\n",
    "#         attn_coeffs = tf.nn.softmax(tf.matmul(tf.matmul(h, tf.transpose(h, [0, 2, 1])), A))\n",
    "#         out = tf.matmul(attn_coeffs, h)\n",
    "#         out = tf.reshape(out, (-1, self.units * self.attn_heads))\n",
    "#         out = self.activation(out)\n",
    "#         return out\n",
    "\n",
    "# def graph_autoencoder_gat(node_features_shape, num_nodes, latent_dim):\n",
    "#     # Encoder\n",
    "#     encoder_inputs = Input(shape=node_features_shape)\n",
    "#     A = Input(shape=(num_nodes, num_nodes))  # Adjacency matrix placeholder\n",
    "\n",
    "#     encoder = GraphAttention(units=64)([encoder_inputs, A])\n",
    "#     encoder = Dropout(0.2)(encoder)\n",
    "#     encoder = Reshape((num_nodes * latent_dim,))(encoder)  # Reshape to match decoder input size\n",
    "\n",
    "#     # Decoder\n",
    "#     decoder = Dense(64, activation='relu')(encoder)  # Example dense layer, modify as needed\n",
    "#     decoder = Dropout(0.2)(decoder)\n",
    "#     decoder_outputs = Dense(node_features_shape[0], activation='sigmoid')(decoder)\n",
    "\n",
    "#     # Autoencoder model\n",
    "#     autoencoder = Model([encoder_inputs, A], decoder_outputs)\n",
    "\n",
    "#     # Compile the model\n",
    "#     autoencoder.compile(optimizer='adam', loss='mean_squared_error')\n",
    "\n",
    "#     return autoencoder\n",
    "\n",
    "# # Generate random sample inputs for training and testing\n",
    "# num_nodes = 50\n",
    "# node_features_shape = (10,)  # Assuming each node has 10 features\n",
    "\n",
    "# # Generate random adjacency matrices (assuming undirected graphs)\n",
    "# adj_matrices_train = [np.random.randint(0, 2, size=(num_nodes, num_nodes)) for _ in range(100)]  # 100 training graphs\n",
    "# adj_matrices_test = [np.random.randint(0, 2, size=(num_nodes, num_nodes)) for _ in range(20)]    # 20 testing graphs\n",
    "\n",
    "# # Generate random node features for each graph\n",
    "# node_features_train = [np.random.rand(num_nodes, node_features_shape[0]) for _ in range(100)]  # Random features for training\n",
    "# node_features_test = [np.random.rand(num_nodes, node_features_shape[0]) for _ in range(20)]    # Random features for testing\n",
    "\n",
    "# # Create the graph autoencoder model\n",
    "# latent_dim = 32  # Adjust as needed\n",
    "# model = graph_autoencoder_gat(node_features_shape, num_nodes, latent_dim)\n",
    "\n",
    "# # Train the model\n",
    "# model.fit([node_features_train, adj_matrices_train], node_features_train, epochs=10, batch_size=32, validation_split=0.2)\n",
    "\n",
    "# # Get testing outputs for node classification\n",
    "# # For example, getting the output of the encoder part for node classification\n",
    "# encoded_features = model.layers[2].predict([node_features_test, adj_matrices_test])\n",
    "\n",
    "# # You can use the 'encoded_features' for node classification or further downstream tasks\n",
    "# # Adjust the final layers or outputs for node classification based on your specific task requirements\n"
   ]
  },
  {
   "cell_type": "code",
   "execution_count": null,
   "metadata": {},
   "outputs": [],
   "source": []
  }
 ],
 "metadata": {
  "kernelspec": {
   "display_name": "base",
   "language": "python",
   "name": "python3"
  },
  "language_info": {
   "codemirror_mode": {
    "name": "ipython",
    "version": 3
   },
   "file_extension": ".py",
   "mimetype": "text/x-python",
   "name": "python",
   "nbconvert_exporter": "python",
   "pygments_lexer": "ipython3",
   "version": "3.9.12"
  }
 },
 "nbformat": 4,
 "nbformat_minor": 2
}
